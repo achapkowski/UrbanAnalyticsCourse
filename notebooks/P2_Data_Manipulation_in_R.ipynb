{
 "cells": [
  {
   "cell_type": "markdown",
   "metadata": {},
   "source": [
    "## Data Manipulation in R\n"
   ]
  },
  {
   "cell_type": "markdown",
   "metadata": {},
   "source": [
    "## Assignment Objectives\n",
    "By the end of this practical lab you will be able to:\n",
    "\n",
    "* Create common objects used to store data\n",
    "* Read tabular and spatial data formats into R\n",
    "* Subset and merge data\n",
    "* Manipulate data and calculate new values\n",
    "\n",
    "## Matrix and Data Frames\n",
    "Two main object types that can be used to store tabular data in R include the data frame and matrix. Data frames can contain input columns that are of multiple types (e.g. character, numeric etc); and a matrix a single type. You can create these within R manually or by reading in other common formats such as spreadsheets or csv files.\n",
    "\n",
    "A data frame can be created using the data.frame() function."
   ]
  },
  {
   "cell_type": "code",
   "execution_count": 1,
   "metadata": {},
   "outputs": [],
   "source": [
    "#Create two vectors\n",
    "a <- rep(2010:2017, each = 4) # this uses the rep() function to repeat values\n",
    "b <- round(runif(32, 0, 40)) # runif can be used to generate random numbers - in this case between 0 and 40\n",
    "#Create data frame\n",
    "c <- data.frame(a,b)"
   ]
  },
  {
   "cell_type": "markdown",
   "metadata": {
    "lines_to_next_cell": 0
   },
   "source": [
    "You can type c into the console to return the whole data frame, however, you might just want to look at the top few rows. This can be achieved with the head() function:\n",
    "\n",
    "<a id=\"data_frame_ex\"></a>"
   ]
  },
  {
   "cell_type": "code",
   "execution_count": 2,
   "metadata": {},
   "outputs": [
    {
     "data": {
      "text/html": [
       "<table>\n",
       "<thead><tr><th scope=col>a</th><th scope=col>b</th></tr></thead>\n",
       "<tbody>\n",
       "\t<tr><td>2010</td><td> 3  </td></tr>\n",
       "\t<tr><td>2010</td><td>18  </td></tr>\n",
       "\t<tr><td>2010</td><td> 2  </td></tr>\n",
       "\t<tr><td>2010</td><td>21  </td></tr>\n",
       "\t<tr><td>2011</td><td>27  </td></tr>\n",
       "\t<tr><td>2011</td><td>33  </td></tr>\n",
       "</tbody>\n",
       "</table>\n"
      ],
      "text/latex": [
       "\\begin{tabular}{r|ll}\n",
       " a & b\\\\\n",
       "\\hline\n",
       "\t 2010 &  3  \\\\\n",
       "\t 2010 & 18  \\\\\n",
       "\t 2010 &  2  \\\\\n",
       "\t 2010 & 21  \\\\\n",
       "\t 2011 & 27  \\\\\n",
       "\t 2011 & 33  \\\\\n",
       "\\end{tabular}\n"
      ],
      "text/markdown": [
       "\n",
       "| a | b |\n",
       "|---|---|\n",
       "| 2010 |  3   |\n",
       "| 2010 | 18   |\n",
       "| 2010 |  2   |\n",
       "| 2010 | 21   |\n",
       "| 2011 | 27   |\n",
       "| 2011 | 33   |\n",
       "\n"
      ],
      "text/plain": [
       "  a    b \n",
       "1 2010  3\n",
       "2 2010 18\n",
       "3 2010  2\n",
       "4 2010 21\n",
       "5 2011 27\n",
       "6 2011 33"
      ]
     },
     "metadata": {},
     "output_type": "display_data"
    }
   ],
   "source": [
    "#head returns the top six rows\n",
    "head(c)"
   ]
  },
  {
   "cell_type": "markdown",
   "metadata": {},
   "source": [
    "The matrix() function can be used as follows to create a tabular object of a single data type:"
   ]
  },
  {
   "cell_type": "code",
   "execution_count": 3,
   "metadata": {},
   "outputs": [
    {
     "data": {
      "text/html": [
       "<ol class=list-inline>\n",
       "\t<li>1</li>\n",
       "\t<li>2</li>\n",
       "\t<li>3</li>\n",
       "\t<li>4</li>\n",
       "\t<li>5</li>\n",
       "\t<li>6</li>\n",
       "\t<li>7</li>\n",
       "\t<li>8</li>\n",
       "\t<li>9</li>\n",
       "\t<li>10</li>\n",
       "\t<li>11</li>\n",
       "\t<li>12</li>\n",
       "\t<li>13</li>\n",
       "\t<li>14</li>\n",
       "\t<li>15</li>\n",
       "\t<li>16</li>\n",
       "\t<li>17</li>\n",
       "\t<li>18</li>\n",
       "\t<li>19</li>\n",
       "\t<li>20</li>\n",
       "\t<li>21</li>\n",
       "\t<li>22</li>\n",
       "\t<li>23</li>\n",
       "\t<li>24</li>\n",
       "\t<li>25</li>\n",
       "</ol>\n"
      ],
      "text/latex": [
       "\\begin{enumerate*}\n",
       "\\item 1\n",
       "\\item 2\n",
       "\\item 3\n",
       "\\item 4\n",
       "\\item 5\n",
       "\\item 6\n",
       "\\item 7\n",
       "\\item 8\n",
       "\\item 9\n",
       "\\item 10\n",
       "\\item 11\n",
       "\\item 12\n",
       "\\item 13\n",
       "\\item 14\n",
       "\\item 15\n",
       "\\item 16\n",
       "\\item 17\n",
       "\\item 18\n",
       "\\item 19\n",
       "\\item 20\n",
       "\\item 21\n",
       "\\item 22\n",
       "\\item 23\n",
       "\\item 24\n",
       "\\item 25\n",
       "\\end{enumerate*}\n"
      ],
      "text/markdown": [
       "1. 1\n",
       "2. 2\n",
       "3. 3\n",
       "4. 4\n",
       "5. 5\n",
       "6. 6\n",
       "7. 7\n",
       "8. 8\n",
       "9. 9\n",
       "10. 10\n",
       "11. 11\n",
       "12. 12\n",
       "13. 13\n",
       "14. 14\n",
       "15. 15\n",
       "16. 16\n",
       "17. 17\n",
       "18. 18\n",
       "19. 19\n",
       "20. 20\n",
       "21. 21\n",
       "22. 22\n",
       "23. 23\n",
       "24. 24\n",
       "25. 25\n",
       "\n",
       "\n"
      ],
      "text/plain": [
       " [1]  1  2  3  4  5  6  7  8  9 10 11 12 13 14 15 16 17 18 19 20 21 22 23 24 25"
      ]
     },
     "metadata": {},
     "output_type": "display_data"
    },
    {
     "data": {
      "text/html": [
       "<table>\n",
       "<tbody>\n",
       "\t<tr><td>1 </td><td> 6</td><td>11</td><td>16</td><td>21</td></tr>\n",
       "\t<tr><td>2 </td><td> 7</td><td>12</td><td>17</td><td>22</td></tr>\n",
       "\t<tr><td>3 </td><td> 8</td><td>13</td><td>18</td><td>23</td></tr>\n",
       "\t<tr><td>4 </td><td> 9</td><td>14</td><td>19</td><td>24</td></tr>\n",
       "\t<tr><td>5 </td><td>10</td><td>15</td><td>20</td><td>25</td></tr>\n",
       "</tbody>\n",
       "</table>\n"
      ],
      "text/latex": [
       "\\begin{tabular}{lllll}\n",
       "\t 1  &  6 & 11 & 16 & 21\\\\\n",
       "\t 2  &  7 & 12 & 17 & 22\\\\\n",
       "\t 3  &  8 & 13 & 18 & 23\\\\\n",
       "\t 4  &  9 & 14 & 19 & 24\\\\\n",
       "\t 5  & 10 & 15 & 20 & 25\\\\\n",
       "\\end{tabular}\n"
      ],
      "text/markdown": [
       "\n",
       "| 1  |  6 | 11 | 16 | 21 |\n",
       "| 2  |  7 | 12 | 17 | 22 |\n",
       "| 3  |  8 | 13 | 18 | 23 |\n",
       "| 4  |  9 | 14 | 19 | 24 |\n",
       "| 5  | 10 | 15 | 20 | 25 |\n",
       "\n"
      ],
      "text/plain": [
       "     [,1] [,2] [,3] [,4] [,5]\n",
       "[1,] 1     6   11   16   21  \n",
       "[2,] 2     7   12   17   22  \n",
       "[3,] 3     8   13   18   23  \n",
       "[4,] 4     9   14   19   24  \n",
       "[5,] 5    10   15   20   25  "
      ]
     },
     "metadata": {},
     "output_type": "display_data"
    }
   ],
   "source": [
    "\n",
    "#Create a list of numbers\n",
    "a <- 1:25 #The colon signifies a range\n",
    "a\n",
    "\n",
    "#Create a matrix with 5 rows and 5 columns\n",
    "b <- matrix(a,nrow=5, ncol=5)\n",
    "b"
   ]
  },
  {
   "cell_type": "markdown",
   "metadata": {},
   "source": [
    "It is possible to multiply a numeric matrix by a constant or another matrix"
   ]
  },
  {
   "cell_type": "code",
   "execution_count": 4,
   "metadata": {},
   "outputs": [
    {
     "data": {
      "text/html": [
       "<table>\n",
       "<tbody>\n",
       "\t<tr><td>10 </td><td> 60</td><td>110</td><td>160</td><td>210</td></tr>\n",
       "\t<tr><td>20 </td><td> 70</td><td>120</td><td>170</td><td>220</td></tr>\n",
       "\t<tr><td>30 </td><td> 80</td><td>130</td><td>180</td><td>230</td></tr>\n",
       "\t<tr><td>40 </td><td> 90</td><td>140</td><td>190</td><td>240</td></tr>\n",
       "\t<tr><td>50 </td><td>100</td><td>150</td><td>200</td><td>250</td></tr>\n",
       "</tbody>\n",
       "</table>\n"
      ],
      "text/latex": [
       "\\begin{tabular}{lllll}\n",
       "\t 10  &  60 & 110 & 160 & 210\\\\\n",
       "\t 20  &  70 & 120 & 170 & 220\\\\\n",
       "\t 30  &  80 & 130 & 180 & 230\\\\\n",
       "\t 40  &  90 & 140 & 190 & 240\\\\\n",
       "\t 50  & 100 & 150 & 200 & 250\\\\\n",
       "\\end{tabular}\n"
      ],
      "text/markdown": [
       "\n",
       "| 10  |  60 | 110 | 160 | 210 |\n",
       "| 20  |  70 | 120 | 170 | 220 |\n",
       "| 30  |  80 | 130 | 180 | 230 |\n",
       "| 40  |  90 | 140 | 190 | 240 |\n",
       "| 50  | 100 | 150 | 200 | 250 |\n",
       "\n"
      ],
      "text/plain": [
       "     [,1] [,2] [,3] [,4] [,5]\n",
       "[1,] 10    60  110  160  210 \n",
       "[2,] 20    70  120  170  220 \n",
       "[3,] 30    80  130  180  230 \n",
       "[4,] 40    90  140  190  240 \n",
       "[5,] 50   100  150  200  250 "
      ]
     },
     "metadata": {},
     "output_type": "display_data"
    },
    {
     "data": {
      "text/html": [
       "<table>\n",
       "<tbody>\n",
       "\t<tr><td> 1 </td><td> 36</td><td>121</td><td>256</td><td>441</td></tr>\n",
       "\t<tr><td> 4 </td><td> 49</td><td>144</td><td>289</td><td>484</td></tr>\n",
       "\t<tr><td> 9 </td><td> 64</td><td>169</td><td>324</td><td>529</td></tr>\n",
       "\t<tr><td>16 </td><td> 81</td><td>196</td><td>361</td><td>576</td></tr>\n",
       "\t<tr><td>25 </td><td>100</td><td>225</td><td>400</td><td>625</td></tr>\n",
       "</tbody>\n",
       "</table>\n"
      ],
      "text/latex": [
       "\\begin{tabular}{lllll}\n",
       "\t  1  &  36 & 121 & 256 & 441\\\\\n",
       "\t  4  &  49 & 144 & 289 & 484\\\\\n",
       "\t  9  &  64 & 169 & 324 & 529\\\\\n",
       "\t 16  &  81 & 196 & 361 & 576\\\\\n",
       "\t 25  & 100 & 225 & 400 & 625\\\\\n",
       "\\end{tabular}\n"
      ],
      "text/markdown": [
       "\n",
       "|  1  |  36 | 121 | 256 | 441 |\n",
       "|  4  |  49 | 144 | 289 | 484 |\n",
       "|  9  |  64 | 169 | 324 | 529 |\n",
       "| 16  |  81 | 196 | 361 | 576 |\n",
       "| 25  | 100 | 225 | 400 | 625 |\n",
       "\n"
      ],
      "text/plain": [
       "     [,1] [,2] [,3] [,4] [,5]\n",
       "[1,]  1    36  121  256  441 \n",
       "[2,]  4    49  144  289  484 \n",
       "[3,]  9    64  169  324  529 \n",
       "[4,] 16    81  196  361  576 \n",
       "[5,] 25   100  225  400  625 "
      ]
     },
     "metadata": {},
     "output_type": "display_data"
    }
   ],
   "source": [
    "#Multiply b by 10\n",
    "b*10\n",
    "#Multiply b * b\n",
    "b*b"
   ]
  },
  {
   "cell_type": "markdown",
   "metadata": {},
   "source": [
    "When a matrix prints, the columns and rows show their index as a set of numbers within square brackets. These can be used to extract values from the matrix. These are formatted as [row number, column number]. For example:"
   ]
  },
  {
   "cell_type": "code",
   "execution_count": 5,
   "metadata": {},
   "outputs": [
    {
     "data": {
      "text/html": [
       "<ol class=list-inline>\n",
       "\t<li>1</li>\n",
       "\t<li>6</li>\n",
       "\t<li>11</li>\n",
       "\t<li>16</li>\n",
       "\t<li>21</li>\n",
       "</ol>\n"
      ],
      "text/latex": [
       "\\begin{enumerate*}\n",
       "\\item 1\n",
       "\\item 6\n",
       "\\item 11\n",
       "\\item 16\n",
       "\\item 21\n",
       "\\end{enumerate*}\n"
      ],
      "text/markdown": [
       "1. 1\n",
       "2. 6\n",
       "3. 11\n",
       "4. 16\n",
       "5. 21\n",
       "\n",
       "\n"
      ],
      "text/plain": [
       "[1]  1  6 11 16 21"
      ]
     },
     "metadata": {},
     "output_type": "display_data"
    },
    {
     "data": {
      "text/html": [
       "<ol class=list-inline>\n",
       "\t<li>16</li>\n",
       "\t<li>17</li>\n",
       "\t<li>18</li>\n",
       "\t<li>19</li>\n",
       "\t<li>20</li>\n",
       "</ol>\n"
      ],
      "text/latex": [
       "\\begin{enumerate*}\n",
       "\\item 16\n",
       "\\item 17\n",
       "\\item 18\n",
       "\\item 19\n",
       "\\item 20\n",
       "\\end{enumerate*}\n"
      ],
      "text/markdown": [
       "1. 16\n",
       "2. 17\n",
       "3. 18\n",
       "4. 19\n",
       "5. 20\n",
       "\n",
       "\n"
      ],
      "text/plain": [
       "[1] 16 17 18 19 20"
      ]
     },
     "metadata": {},
     "output_type": "display_data"
    },
    {
     "data": {
      "text/html": [
       "<table>\n",
       "<tbody>\n",
       "\t<tr><td>11</td><td>16</td></tr>\n",
       "\t<tr><td>12</td><td>17</td></tr>\n",
       "\t<tr><td>13</td><td>18</td></tr>\n",
       "\t<tr><td>14</td><td>19</td></tr>\n",
       "\t<tr><td>15</td><td>20</td></tr>\n",
       "</tbody>\n",
       "</table>\n"
      ],
      "text/latex": [
       "\\begin{tabular}{ll}\n",
       "\t 11 & 16\\\\\n",
       "\t 12 & 17\\\\\n",
       "\t 13 & 18\\\\\n",
       "\t 14 & 19\\\\\n",
       "\t 15 & 20\\\\\n",
       "\\end{tabular}\n"
      ],
      "text/markdown": [
       "\n",
       "| 11 | 16 |\n",
       "| 12 | 17 |\n",
       "| 13 | 18 |\n",
       "| 14 | 19 |\n",
       "| 15 | 20 |\n",
       "\n"
      ],
      "text/plain": [
       "     [,1] [,2]\n",
       "[1,] 11   16  \n",
       "[2,] 12   17  \n",
       "[3,] 13   18  \n",
       "[4,] 14   19  \n",
       "[5,] 15   20  "
      ]
     },
     "metadata": {},
     "output_type": "display_data"
    },
    {
     "data": {
      "text/html": [
       "<table>\n",
       "<tbody>\n",
       "\t<tr><td>1 </td><td> 6</td><td>11</td><td>16</td><td>21</td></tr>\n",
       "\t<tr><td>5 </td><td>10</td><td>15</td><td>20</td><td>25</td></tr>\n",
       "</tbody>\n",
       "</table>\n"
      ],
      "text/latex": [
       "\\begin{tabular}{lllll}\n",
       "\t 1  &  6 & 11 & 16 & 21\\\\\n",
       "\t 5  & 10 & 15 & 20 & 25\\\\\n",
       "\\end{tabular}\n"
      ],
      "text/markdown": [
       "\n",
       "| 1  |  6 | 11 | 16 | 21 |\n",
       "| 5  | 10 | 15 | 20 | 25 |\n",
       "\n"
      ],
      "text/plain": [
       "     [,1] [,2] [,3] [,4] [,5]\n",
       "[1,] 1     6   11   16   21  \n",
       "[2,] 5    10   15   20   25  "
      ]
     },
     "metadata": {},
     "output_type": "display_data"
    },
    {
     "data": {
      "text/html": [
       "18"
      ],
      "text/latex": [
       "18"
      ],
      "text/markdown": [
       "18"
      ],
      "text/plain": [
       "[1] 18"
      ]
     },
     "metadata": {},
     "output_type": "display_data"
    }
   ],
   "source": [
    "#Extract first row\n",
    "b[1,]\n",
    "#Extract fourth column\n",
    "b[,4]\n",
    "#Extract third and fourth columns\n",
    "b[,3:4] # The colon is used to define a numeric vector between the two numbers\n",
    "#Extract first and fourth rows\n",
    "b[c(1,5),] # The c() is used to create a numeric vector with the numbers separated by a comma\n",
    "#Extract the value in the third row and fourth column\n",
    "b[3,4]"
   ]
  },
  {
   "cell_type": "markdown",
   "metadata": {},
   "source": [
    "In the data frame that you created [earlier](#data_frame_ex), the column and rows were not numbered, however, you can still use the square brackets to extract the values in the same way as a matrix. \n",
    "\n",
    "You can also reference the column names themselves using the $ symbol, for example:"
   ]
  },
  {
   "cell_type": "code",
   "execution_count": 6,
   "metadata": {},
   "outputs": [
    {
     "data": {
      "text/html": [
       "<ol class=list-inline>\n",
       "\t<li>2010</li>\n",
       "\t<li>2010</li>\n",
       "\t<li>2010</li>\n",
       "\t<li>2010</li>\n",
       "\t<li>2011</li>\n",
       "\t<li>2011</li>\n",
       "\t<li>2011</li>\n",
       "\t<li>2011</li>\n",
       "\t<li>2012</li>\n",
       "\t<li>2012</li>\n",
       "\t<li>2012</li>\n",
       "\t<li>2012</li>\n",
       "\t<li>2013</li>\n",
       "\t<li>2013</li>\n",
       "\t<li>2013</li>\n",
       "\t<li>2013</li>\n",
       "\t<li>2014</li>\n",
       "\t<li>2014</li>\n",
       "\t<li>2014</li>\n",
       "\t<li>2014</li>\n",
       "\t<li>2015</li>\n",
       "\t<li>2015</li>\n",
       "\t<li>2015</li>\n",
       "\t<li>2015</li>\n",
       "\t<li>2016</li>\n",
       "\t<li>2016</li>\n",
       "\t<li>2016</li>\n",
       "\t<li>2016</li>\n",
       "\t<li>2017</li>\n",
       "\t<li>2017</li>\n",
       "\t<li>2017</li>\n",
       "\t<li>2017</li>\n",
       "</ol>\n"
      ],
      "text/latex": [
       "\\begin{enumerate*}\n",
       "\\item 2010\n",
       "\\item 2010\n",
       "\\item 2010\n",
       "\\item 2010\n",
       "\\item 2011\n",
       "\\item 2011\n",
       "\\item 2011\n",
       "\\item 2011\n",
       "\\item 2012\n",
       "\\item 2012\n",
       "\\item 2012\n",
       "\\item 2012\n",
       "\\item 2013\n",
       "\\item 2013\n",
       "\\item 2013\n",
       "\\item 2013\n",
       "\\item 2014\n",
       "\\item 2014\n",
       "\\item 2014\n",
       "\\item 2014\n",
       "\\item 2015\n",
       "\\item 2015\n",
       "\\item 2015\n",
       "\\item 2015\n",
       "\\item 2016\n",
       "\\item 2016\n",
       "\\item 2016\n",
       "\\item 2016\n",
       "\\item 2017\n",
       "\\item 2017\n",
       "\\item 2017\n",
       "\\item 2017\n",
       "\\end{enumerate*}\n"
      ],
      "text/markdown": [
       "1. 2010\n",
       "2. 2010\n",
       "3. 2010\n",
       "4. 2010\n",
       "5. 2011\n",
       "6. 2011\n",
       "7. 2011\n",
       "8. 2011\n",
       "9. 2012\n",
       "10. 2012\n",
       "11. 2012\n",
       "12. 2012\n",
       "13. 2013\n",
       "14. 2013\n",
       "15. 2013\n",
       "16. 2013\n",
       "17. 2014\n",
       "18. 2014\n",
       "19. 2014\n",
       "20. 2014\n",
       "21. 2015\n",
       "22. 2015\n",
       "23. 2015\n",
       "24. 2015\n",
       "25. 2016\n",
       "26. 2016\n",
       "27. 2016\n",
       "28. 2016\n",
       "29. 2017\n",
       "30. 2017\n",
       "31. 2017\n",
       "32. 2017\n",
       "\n",
       "\n"
      ],
      "text/plain": [
       " [1] 2010 2010 2010 2010 2011 2011 2011 2011 2012 2012 2012 2012 2013 2013 2013\n",
       "[16] 2013 2014 2014 2014 2014 2015 2015 2015 2015 2016 2016 2016 2016 2017 2017\n",
       "[31] 2017 2017"
      ]
     },
     "metadata": {},
     "output_type": "display_data"
    },
    {
     "data": {
      "text/html": [
       "<ol class=list-inline>\n",
       "\t<li>2010</li>\n",
       "\t<li>2010</li>\n",
       "\t<li>2010</li>\n",
       "\t<li>2010</li>\n",
       "\t<li>2011</li>\n",
       "\t<li>2011</li>\n",
       "\t<li>2011</li>\n",
       "\t<li>2011</li>\n",
       "\t<li>2012</li>\n",
       "\t<li>2012</li>\n",
       "\t<li>2012</li>\n",
       "\t<li>2012</li>\n",
       "\t<li>2013</li>\n",
       "\t<li>2013</li>\n",
       "\t<li>2013</li>\n",
       "\t<li>2013</li>\n",
       "\t<li>2014</li>\n",
       "\t<li>2014</li>\n",
       "\t<li>2014</li>\n",
       "\t<li>2014</li>\n",
       "\t<li>2015</li>\n",
       "\t<li>2015</li>\n",
       "\t<li>2015</li>\n",
       "\t<li>2015</li>\n",
       "\t<li>2016</li>\n",
       "\t<li>2016</li>\n",
       "\t<li>2016</li>\n",
       "\t<li>2016</li>\n",
       "\t<li>2017</li>\n",
       "\t<li>2017</li>\n",
       "\t<li>2017</li>\n",
       "\t<li>2017</li>\n",
       "</ol>\n"
      ],
      "text/latex": [
       "\\begin{enumerate*}\n",
       "\\item 2010\n",
       "\\item 2010\n",
       "\\item 2010\n",
       "\\item 2010\n",
       "\\item 2011\n",
       "\\item 2011\n",
       "\\item 2011\n",
       "\\item 2011\n",
       "\\item 2012\n",
       "\\item 2012\n",
       "\\item 2012\n",
       "\\item 2012\n",
       "\\item 2013\n",
       "\\item 2013\n",
       "\\item 2013\n",
       "\\item 2013\n",
       "\\item 2014\n",
       "\\item 2014\n",
       "\\item 2014\n",
       "\\item 2014\n",
       "\\item 2015\n",
       "\\item 2015\n",
       "\\item 2015\n",
       "\\item 2015\n",
       "\\item 2016\n",
       "\\item 2016\n",
       "\\item 2016\n",
       "\\item 2016\n",
       "\\item 2017\n",
       "\\item 2017\n",
       "\\item 2017\n",
       "\\item 2017\n",
       "\\end{enumerate*}\n"
      ],
      "text/markdown": [
       "1. 2010\n",
       "2. 2010\n",
       "3. 2010\n",
       "4. 2010\n",
       "5. 2011\n",
       "6. 2011\n",
       "7. 2011\n",
       "8. 2011\n",
       "9. 2012\n",
       "10. 2012\n",
       "11. 2012\n",
       "12. 2012\n",
       "13. 2013\n",
       "14. 2013\n",
       "15. 2013\n",
       "16. 2013\n",
       "17. 2014\n",
       "18. 2014\n",
       "19. 2014\n",
       "20. 2014\n",
       "21. 2015\n",
       "22. 2015\n",
       "23. 2015\n",
       "24. 2015\n",
       "25. 2016\n",
       "26. 2016\n",
       "27. 2016\n",
       "28. 2016\n",
       "29. 2017\n",
       "30. 2017\n",
       "31. 2017\n",
       "32. 2017\n",
       "\n",
       "\n"
      ],
      "text/plain": [
       " [1] 2010 2010 2010 2010 2011 2011 2011 2011 2012 2012 2012 2012 2013 2013 2013\n",
       "[16] 2013 2014 2014 2014 2014 2015 2015 2015 2015 2016 2016 2016 2016 2017 2017\n",
       "[31] 2017 2017"
      ]
     },
     "metadata": {},
     "output_type": "display_data"
    }
   ],
   "source": [
    "#Return all the values in the column called \"a\"\n",
    "c$a\n",
    "#A different way of returning the column called \"a\"\n",
    "c[,\"a\"]"
   ]
  },
  {
   "cell_type": "markdown",
   "metadata": {
    "lines_to_next_cell": 0
   },
   "source": [
    "We can also find out what a data frame column names are using the colnames() function:"
   ]
  },
  {
   "cell_type": "code",
   "execution_count": 7,
   "metadata": {
    "lines_to_next_cell": 0
   },
   "outputs": [
    {
     "data": {
      "text/html": [
       "<ol class=list-inline>\n",
       "\t<li>'a'</li>\n",
       "\t<li>'b'</li>\n",
       "</ol>\n"
      ],
      "text/latex": [
       "\\begin{enumerate*}\n",
       "\\item 'a'\n",
       "\\item 'b'\n",
       "\\end{enumerate*}\n"
      ],
      "text/markdown": [
       "1. 'a'\n",
       "2. 'b'\n",
       "\n",
       "\n"
      ],
      "text/plain": [
       "[1] \"a\" \"b\""
      ]
     },
     "metadata": {},
     "output_type": "display_data"
    }
   ],
   "source": [
    "colnames(c)"
   ]
  },
  {
   "cell_type": "markdown",
   "metadata": {},
   "source": [
    "Or, we can also use the same function to set new column names:"
   ]
  },
  {
   "cell_type": "code",
   "execution_count": 8,
   "metadata": {
    "lines_to_next_cell": 2
   },
   "outputs": [],
   "source": [
    "colnames(c) <- c(\"Year\",\"Count\")"
   ]
  },
  {
   "cell_type": "markdown",
   "metadata": {},
   "source": [
    "## Getting External Data into R\n",
    "\n",
    "For most urban analytics you are more likely to be reading external data into R rather than creating data objects from scratch. Tabular data is commonly stored in text files such as CSV, or on spreadsheets; and explicitly spatial data will likely be stored in formats such as Shapefiles. In this section you will learn how to read data stored in these formats into R.\n",
    "\n",
    "### Reading Tabular Data\n",
    "\n",
    "A common way in which data can be stored externally are the the use of .csv files. These are text files, and have a very simple format where columns of attributes are separated by a comma [^1], and each row by a carriage return. \n",
    "\n",
    "[^1]: There are a range of different delimiter which can be used in addition to a comma, with the most common being tab; although sometimes characters not commonly used such as bar (|) will be used.\n",
    "\n",
    "In the following example you will read in some U.S. Census Bureau, 2010-2014 American Community Survey (ACS) 5-Year Estimate data. This was downloaded from the [American Fact Finder](https://factfinder.census.gov) website. The data are for census tracts in San Francisco and relate to median earnings in the past 12 months.\n",
    "\n",
    "Reading CSV files into R uses the read.csv() function:"
   ]
  },
  {
   "cell_type": "code",
   "execution_count": 9,
   "metadata": {},
   "outputs": [
    {
     "data": {
      "text/html": [
       "<ol class=list-inline>\n",
       "\t<li>'UID'</li>\n",
       "\t<li>'pop'</li>\n",
       "\t<li>'pop_m'</li>\n",
       "\t<li>'earnings'</li>\n",
       "\t<li>'earnings_m'</li>\n",
       "</ol>\n"
      ],
      "text/latex": [
       "\\begin{enumerate*}\n",
       "\\item 'UID'\n",
       "\\item 'pop'\n",
       "\\item 'pop\\_m'\n",
       "\\item 'earnings'\n",
       "\\item 'earnings\\_m'\n",
       "\\end{enumerate*}\n"
      ],
      "text/markdown": [
       "1. 'UID'\n",
       "2. 'pop'\n",
       "3. 'pop_m'\n",
       "4. 'earnings'\n",
       "5. 'earnings_m'\n",
       "\n",
       "\n"
      ],
      "text/plain": [
       "[1] \"UID\"        \"pop\"        \"pop_m\"      \"earnings\"   \"earnings_m\""
      ]
     },
     "metadata": {},
     "output_type": "display_data"
    }
   ],
   "source": [
    "#Read CSV file - creates a data frame called earnings\n",
    "earnings <- read.csv(\"./data/ACS_14_5YR_S2001_with_ann.csv\")\n",
    "\n",
    "#Show column headings\n",
    "colnames(earnings)\n",
    "\n",
    "#UID - Tract ID\n",
    "#pop - estimated total population over 16 with income\n",
    "#pop_m - estimated total population over 16 with income (margin of error)\n",
    "#earnings - estimated median earnings\n",
    "#earnings - estimated median earnings (margin of error)\n"
   ]
  },
  {
   "cell_type": "markdown",
   "metadata": {
    "lines_to_next_cell": 0
   },
   "source": [
    "It is possible to show the structure of the object using the str() function.\n",
    "<a id=\"earnings\"></a>"
   ]
  },
  {
   "cell_type": "code",
   "execution_count": 10,
   "metadata": {},
   "outputs": [
    {
     "name": "stdout",
     "output_type": "stream",
     "text": [
      "'data.frame':\t197 obs. of  5 variables:\n",
      " $ UID       : num  6.08e+09 6.08e+09 6.08e+09 6.08e+09 6.08e+09 ...\n",
      " $ pop       : int  2371 2975 2748 3668 1562 2172 2716 3173 3517 4030 ...\n",
      " $ pop_m     : int  226 315 324 442 198 374 315 338 258 521 ...\n",
      " $ earnings  : Factor w/ 195 levels \"-\",\"100204\",\"100583\",..: 110 172 105 108 6 14 30 113 193 139 ...\n",
      " $ earnings_m: Factor w/ 194 levels \"**\",\"10048\",\"10068\",..: 54 19 14 134 115 181 125 167 29 140 ...\n"
     ]
    }
   ],
   "source": [
    "str(earnings)"
   ]
  },
  {
   "cell_type": "markdown",
   "metadata": {},
   "source": [
    "This shows that the object is a data frame with 197 rows and 5 variables. For each of the attributes the class is shown (num = numeric; int = integer and Factor, with the number of levels). The read.csv() function guesses the column types when the data are read into R.\n",
    "\n",
    "One issue you might notice is that the earnings and earnings_m variables have been read in as a Factor. The reason these columns were not read as integers (like the pop and pop_m) is the presence of two non-numeric values which are shown as \"*\" and \"-\". In ACS data these two symbols indicate that the sample sizes were either no sample observations or too few sample observations to make a calculation.\n",
    "\n",
    "Issues such as these are quite common when reading in external data; and we will look at how this can be corrected later.\n",
    "\n",
    "Not all tabular data are distributed as textfiles, and another very common format is Microsoft Excel format - .xls or xlsx. Unlike .csv files there are no built in function to read these formats, however, extension packages exist (e.g. XLConnect)"
   ]
  },
  {
   "cell_type": "code",
   "execution_count": 11,
   "metadata": {
    "eval": false,
    "lines_to_next_cell": 0
   },
   "outputs": [
    {
     "name": "stderr",
     "output_type": "stream",
     "text": [
      "also installing the dependency 'rJava'\n",
      "\n",
      "Warning message:\n",
      "\"unable to access index for repository https://cran.r-project.org/bin/windows/contrib/3.6:\n",
      "  cannot open URL 'https://cran.r-project.org/bin/windows/contrib/3.6/PACKAGES'\"Package which is only available in source form, and may need\n",
      "  compilation of C/C++/Fortran: 'rJava'\n"
     ]
    },
    {
     "name": "stdout",
     "output_type": "stream",
     "text": [
      "  These will not be installed\n"
     ]
    },
    {
     "name": "stderr",
     "output_type": "stream",
     "text": [
      "installing the source package 'XLConnect'\n",
      "\n",
      "Warning message in install.packages(\"XLConnect\"):\n",
      "\"installation of package 'XLConnect' had non-zero exit status\""
     ]
    }
   ],
   "source": [
    "#Download and install package (make sure that you also have java installed - https://www.java.com/en/download/installed.jsp)\n",
    "#install.packages(\"XLConnect\")\n",
    "!conda install conda-forge::r-openxlsx --yes"
   ]
  },
  {
   "cell_type": "code",
   "execution_count": 21,
   "metadata": {
    "message": false
   },
   "outputs": [],
   "source": [
    "#Load package\n",
    "library(openxlsx)"
   ]
  },
  {
   "cell_type": "markdown",
   "metadata": {
    "lines_to_next_cell": 0
   },
   "source": [
    "The following code downloads an Excel File from the [London Data Store](https://data.london.gov.uk/) and then reads this into R."
   ]
  },
  {
   "cell_type": "code",
   "execution_count": 18,
   "metadata": {
    "eval": false,
    "lines_to_next_cell": 0
   },
   "outputs": [],
   "source": [
    "download.file(\"https://data.london.gov.uk/download/number-bicycle-hires/ac29363e-e0cb-47cc-a97a-e216d900a6b0/tfl-daily-cycle-hires.xlsx\",\n",
    "              \"./data/tfl-daily-cycle-hires.xlsx\")"
   ]
  },
  {
   "cell_type": "code",
   "execution_count": 26,
   "metadata": {},
   "outputs": [
    {
     "data": {
      "text/html": [
       "<table>\n",
       "<thead><tr><th scope=col>Please.note.that.from.01.August.2017.due.to.delayed.system.events,.daily.hire.figures.are.subject.to.small.incremental.changes..Figures.should.start.to.stabilise.after.a.2.week.period.</th><th scope=col>X2</th><th scope=col>X3</th><th scope=col>X4</th><th scope=col>X5</th><th scope=col>X6</th><th scope=col>X7</th><th scope=col>X8</th><th scope=col>X9</th><th scope=col>X10</th></tr></thead>\n",
       "<tbody>\n",
       "\t<tr><td>Daily Grand Total       </td><td>134973805               </td><td>Monthly Grand Total     </td><td>134973805               </td><td>Annual Grand Total      </td><td>134717786               </td><td>NA                      </td><td>NA                      </td><td>NA                      </td><td>NA                      </td></tr>\n",
       "\t<tr><td>Day                     </td><td>Number of Bicycle Hires </td><td>Month                   </td><td>Number of Bicycle Hires </td><td>Year                    </td><td>Number of Bicycle Hires </td><td>Month                   </td><td>Average Hire Time (mins)</td><td>Against last month      </td><td>Against last year       </td></tr>\n",
       "\t<tr><td>40389                   </td><td>6897                    </td><td>40360                   </td><td>12461                   </td><td>2010                    </td><td>2180813                 </td><td>40360                   </td><td>17.232565604686624      </td><td>NA                      </td><td>NA                      </td></tr>\n",
       "\t<tr><td>40390                   </td><td>5564                    </td><td>40391                   </td><td>341203                  </td><td>2011                    </td><td>7142449                 </td><td>40391                   </td><td>16.551879672804755      </td><td>NA                      </td><td>NA                      </td></tr>\n",
       "\t<tr><td>40391                   </td><td>4303                    </td><td>40422                   </td><td>540859                  </td><td>2012                    </td><td>9519283                 </td><td>40422                   </td><td>15.219079279442516      </td><td>NA                      </td><td>NA                      </td></tr>\n",
       "\t<tr><td>40392                   </td><td>6642                    </td><td>40452                   </td><td>544412                  </td><td>2013                    </td><td>8045459                 </td><td>40452                   </td><td>15.204481165000038      </td><td>NA                      </td><td>NA                      </td></tr>\n",
       "\t<tr><td>40393                   </td><td>7966                    </td><td>40483                   </td><td>456304                  </td><td>2014                    </td><td>10023897                </td><td>40483                   </td><td>13.776083488200854      </td><td>NA                      </td><td>NA                      </td></tr>\n",
       "\t<tr><td>40394                   </td><td>7893                    </td><td>40513                   </td><td>285574                  </td><td>2015                    </td><td>9871839                 </td><td>40513                   </td><td>16.820512371574448      </td><td>NA                      </td><td>NA                      </td></tr>\n",
       "\t<tr><td>40395                   </td><td>8724                    </td><td>40544                   </td><td>403178                  </td><td>2016                    </td><td>10303637                </td><td>40544                   </td><td>16.093229293265011      </td><td>NA                      </td><td>NA                      </td></tr>\n",
       "\t<tr><td>40396                   </td><td>9797                    </td><td>40575                   </td><td>398292                  </td><td>2017                    </td><td>10446044                </td><td>40575                   </td><td>17.249407469896465      </td><td>NA                      </td><td>NA                      </td></tr>\n",
       "\t<tr><td>40397                   </td><td>6631                    </td><td>40603                   </td><td>556155                  </td><td>2018                    </td><td>10567540                </td><td>40603                   </td><td>19.952108674739954      </td><td>NA                      </td><td>NA                      </td></tr>\n",
       "\t<tr><td>40398                   </td><td>7864                    </td><td>40634                   </td><td>673639                  </td><td>2019                    </td><td>10168936                </td><td>40634                   </td><td>26.878840150288209      </td><td>NA                      </td><td>NA                      </td></tr>\n",
       "\t<tr><td>40399                   </td><td>6191                    </td><td>40664                   </td><td>722072                  </td><td>2020                    </td><td>10434167                </td><td>40664                   </td><td>15.047705768953792      </td><td>NA                      </td><td>NA                      </td></tr>\n",
       "\t<tr><td>40400                   </td><td>4802                    </td><td>40695                   </td><td>638717                  </td><td>2021                    </td><td>10941264                </td><td>40695                   </td><td>16.39878537756158       </td><td>NA                      </td><td>NA                      </td></tr>\n",
       "\t<tr><td>40401                   </td><td>14013                   </td><td>40725                   </td><td>708454                  </td><td>2022                    </td><td>11505872                </td><td>40725                   </td><td>15.608177806886539      </td><td>NA                      </td><td>NA                      </td></tr>\n",
       "\t<tr><td>40402                   </td><td>13080                   </td><td>40756                   </td><td>642440                  </td><td>2023                    </td><td>8531168                 </td><td>40756                   </td><td>17.578021293817322      </td><td>NA                      </td><td>NA                      </td></tr>\n",
       "\t<tr><td>40403                   </td><td>12151                   </td><td>40787                   </td><td>684780                  </td><td>2024                    </td><td>5035418                 </td><td>40787                   </td><td>17.336478869125852      </td><td>NA                      </td><td>NA                      </td></tr>\n",
       "\t<tr><td>40404                   </td><td>9195                    </td><td>40817                   </td><td>708802                  </td><td>NA                      </td><td>NA                      </td><td>40817                   </td><td>16.973469318653162      </td><td>3.5079879669382974E-2   </td><td>0.30195881060667285     </td></tr>\n",
       "\t<tr><td>40405                   </td><td>10928                   </td><td>40848                   </td><td>597191                  </td><td>NA                      </td><td>NA                      </td><td>40848                   </td><td>15.574921591249701      </td><td>-0.15746428480732277    </td><td>0.30875688137732737     </td></tr>\n",
       "\t<tr><td>40406                   </td><td>15384                   </td><td>40878                   </td><td>408729                  </td><td>NA                      </td><td>NA                      </td><td>40878                   </td><td>19.411069437206557      </td><td>-0.31558077733924328    </td><td>0.43125424583470484     </td></tr>\n",
       "\t<tr><td>40407                   </td><td>15396                   </td><td>40909                   </td><td>494325                  </td><td>NA                      </td><td>NA                      </td><td>40909                   </td><td>16.903680776816874      </td><td>0.20941993350117061     </td><td>0.22607136302079978     </td></tr>\n",
       "\t<tr><td>40408                   </td><td>16062                   </td><td>40940                   </td><td>481826                  </td><td>NA                      </td><td>NA                      </td><td>40940                   </td><td>17.318538227492912      </td><td>-2.5284984574925451E-2  </td><td>0.20973054944613501     </td></tr>\n",
       "\t<tr><td>40409                   </td><td>17170                   </td><td>40969                   </td><td>818209                  </td><td>NA                      </td><td>NA                      </td><td>40969                   </td><td>21.240560785813894      </td><td>0.6981420678834267      </td><td>0.471188787298505       </td></tr>\n",
       "\t<tr><td>40410                   </td><td>16462                   </td><td>41000                   </td><td>649473                  </td><td>NA                      </td><td>NA                      </td><td>41000                   </td><td>21.420342339096472      </td><td>-0.20622603760163971    </td><td>-3.5873813719217607E-2  </td></tr>\n",
       "\t<tr><td>40411                   </td><td>11719                   </td><td>41030                   </td><td>926952                  </td><td>NA                      </td><td>NA                      </td><td>41030                   </td><td>22.050598089221449      </td><td>0.42723715997431766     </td><td>0.28373901771568488     </td></tr>\n",
       "\t<tr><td>40412                   </td><td>10129                   </td><td>41061                   </td><td>858805                  </td><td>NA                      </td><td>NA                      </td><td>41061                   </td><td>22.07957568947549       </td><td>-7.3517291078718183E-2  </td><td>0.34457827175415723     </td></tr>\n",
       "\t<tr><td>40413                   </td><td>12935                   </td><td>41091                   </td><td>1014174                 </td><td>NA                      </td><td>NA                      </td><td>41091                   </td><td>22.903726579462692      </td><td>0.18091301284924977     </td><td>0.43153119327436928     </td></tr>\n",
       "\t<tr><td>40414                   </td><td>17006                   </td><td>41122                   </td><td>1163171                 </td><td>NA                      </td><td>NA                      </td><td>41122                   </td><td>23.203370785550877      </td><td>0.14691463200594779     </td><td>0.81055195815951686     </td></tr>\n",
       "\t<tr><td>40415                   </td><td>10062                   </td><td>41153                   </td><td>1015145                 </td><td>NA                      </td><td>NA                      </td><td>41153                   </td><td>20.017364021888497      </td><td>-0.12726073810299598    </td><td>0.48243961564298021     </td></tr>\n",
       "\t<tr><td>40416                   </td><td>9875                    </td><td>41183                   </td><td>856866                  </td><td>NA                      </td><td>NA                      </td><td>41183                   </td><td>17.993264991258847      </td><td>-0.15591762753104232    </td><td>0.20889331576378178     </td></tr>\n",
       "\t<tr><td>...</td><td>...</td><td>...</td><td>...</td><td>...</td><td>...</td><td>...</td><td>...</td><td>...</td><td>...</td></tr>\n",
       "\t<tr><td>45475</td><td>29851</td><td>NA   </td><td>NA   </td><td>NA   </td><td>NA   </td><td>NA   </td><td>NA   </td><td>NA   </td><td>NA   </td></tr>\n",
       "\t<tr><td>45476</td><td>29102</td><td>NA   </td><td>NA   </td><td>NA   </td><td>NA   </td><td>NA   </td><td>NA   </td><td>NA   </td><td>NA   </td></tr>\n",
       "\t<tr><td>45477</td><td>33013</td><td>NA   </td><td>NA   </td><td>NA   </td><td>NA   </td><td>NA   </td><td>NA   </td><td>NA   </td><td>NA   </td></tr>\n",
       "\t<tr><td>45478</td><td>16115</td><td>NA   </td><td>NA   </td><td>NA   </td><td>NA   </td><td>NA   </td><td>NA   </td><td>NA   </td><td>NA   </td></tr>\n",
       "\t<tr><td>45479</td><td>16330</td><td>NA   </td><td>NA   </td><td>NA   </td><td>NA   </td><td>NA   </td><td>NA   </td><td>NA   </td><td>NA   </td></tr>\n",
       "\t<tr><td>45480</td><td>18236</td><td>NA   </td><td>NA   </td><td>NA   </td><td>NA   </td><td>NA   </td><td>NA   </td><td>NA   </td><td>NA   </td></tr>\n",
       "\t<tr><td>45481</td><td>25248</td><td>NA   </td><td>NA   </td><td>NA   </td><td>NA   </td><td>NA   </td><td>NA   </td><td>NA   </td><td>NA   </td></tr>\n",
       "\t<tr><td>45482</td><td>23098</td><td>NA   </td><td>NA   </td><td>NA   </td><td>NA   </td><td>NA   </td><td>NA   </td><td>NA   </td><td>NA   </td></tr>\n",
       "\t<tr><td>45483</td><td>31742</td><td>NA   </td><td>NA   </td><td>NA   </td><td>NA   </td><td>NA   </td><td>NA   </td><td>NA   </td><td>NA   </td></tr>\n",
       "\t<tr><td>45484</td><td>31555</td><td>NA   </td><td>NA   </td><td>NA   </td><td>NA   </td><td>NA   </td><td>NA   </td><td>NA   </td><td>NA   </td></tr>\n",
       "\t<tr><td>45485</td><td>27299</td><td>NA   </td><td>NA   </td><td>NA   </td><td>NA   </td><td>NA   </td><td>NA   </td><td>NA   </td><td>NA   </td></tr>\n",
       "\t<tr><td>45486</td><td>26402</td><td>NA   </td><td>NA   </td><td>NA   </td><td>NA   </td><td>NA   </td><td>NA   </td><td>NA   </td><td>NA   </td></tr>\n",
       "\t<tr><td>45487</td><td>27051</td><td>NA   </td><td>NA   </td><td>NA   </td><td>NA   </td><td>NA   </td><td>NA   </td><td>NA   </td><td>NA   </td></tr>\n",
       "\t<tr><td>45488</td><td>23478</td><td>NA   </td><td>NA   </td><td>NA   </td><td>NA   </td><td>NA   </td><td>NA   </td><td>NA   </td><td>NA   </td></tr>\n",
       "\t<tr><td>45489</td><td>30739</td><td>NA   </td><td>NA   </td><td>NA   </td><td>NA   </td><td>NA   </td><td>NA   </td><td>NA   </td><td>NA   </td></tr>\n",
       "\t<tr><td>45490</td><td>33580</td><td>NA   </td><td>NA   </td><td>NA   </td><td>NA   </td><td>NA   </td><td>NA   </td><td>NA   </td><td>NA   </td></tr>\n",
       "\t<tr><td>45491</td><td>33700</td><td>NA   </td><td>NA   </td><td>NA   </td><td>NA   </td><td>NA   </td><td>NA   </td><td>NA   </td><td>NA   </td></tr>\n",
       "\t<tr><td>45492</td><td>31605</td><td>NA   </td><td>NA   </td><td>NA   </td><td>NA   </td><td>NA   </td><td>NA   </td><td>NA   </td><td>NA   </td></tr>\n",
       "\t<tr><td>45493</td><td>27887</td><td>NA   </td><td>NA   </td><td>NA   </td><td>NA   </td><td>NA   </td><td>NA   </td><td>NA   </td><td>NA   </td></tr>\n",
       "\t<tr><td>45494</td><td>26903</td><td>NA   </td><td>NA   </td><td>NA   </td><td>NA   </td><td>NA   </td><td>NA   </td><td>NA   </td><td>NA   </td></tr>\n",
       "\t<tr><td>45495</td><td>29737</td><td>NA   </td><td>NA   </td><td>NA   </td><td>NA   </td><td>NA   </td><td>NA   </td><td>NA   </td><td>NA   </td></tr>\n",
       "\t<tr><td>45496</td><td>32088</td><td>NA   </td><td>NA   </td><td>NA   </td><td>NA   </td><td>NA   </td><td>NA   </td><td>NA   </td><td>NA   </td></tr>\n",
       "\t<tr><td>45497</td><td>32806</td><td>NA   </td><td>NA   </td><td>NA   </td><td>NA   </td><td>NA   </td><td>NA   </td><td>NA   </td><td>NA   </td></tr>\n",
       "\t<tr><td>45498</td><td>28334</td><td>NA   </td><td>NA   </td><td>NA   </td><td>NA   </td><td>NA   </td><td>NA   </td><td>NA   </td><td>NA   </td></tr>\n",
       "\t<tr><td>45499</td><td>29953</td><td>NA   </td><td>NA   </td><td>NA   </td><td>NA   </td><td>NA   </td><td>NA   </td><td>NA   </td><td>NA   </td></tr>\n",
       "\t<tr><td>45500</td><td>29777</td><td>NA   </td><td>NA   </td><td>NA   </td><td>NA   </td><td>NA   </td><td>NA   </td><td>NA   </td><td>NA   </td></tr>\n",
       "\t<tr><td>45501</td><td>28508</td><td>NA   </td><td>NA   </td><td>NA   </td><td>NA   </td><td>NA   </td><td>NA   </td><td>NA   </td><td>NA   </td></tr>\n",
       "\t<tr><td>45502</td><td>31615</td><td>NA   </td><td>NA   </td><td>NA   </td><td>NA   </td><td>NA   </td><td>NA   </td><td>NA   </td><td>NA   </td></tr>\n",
       "\t<tr><td>45503</td><td>34809</td><td>NA   </td><td>NA   </td><td>NA   </td><td>NA   </td><td>NA   </td><td>NA   </td><td>NA   </td><td>NA   </td></tr>\n",
       "\t<tr><td>45504</td><td>34683</td><td>NA   </td><td>NA   </td><td>NA   </td><td>NA   </td><td>NA   </td><td>NA   </td><td>NA   </td><td>NA   </td></tr>\n",
       "</tbody>\n",
       "</table>\n"
      ],
      "text/latex": [
       "\\begin{tabular}{r|llllllllll}\n",
       " Please.note.that.from.01.August.2017.due.to.delayed.system.events,.daily.hire.figures.are.subject.to.small.incremental.changes..Figures.should.start.to.stabilise.after.a.2.week.period. & X2 & X3 & X4 & X5 & X6 & X7 & X8 & X9 & X10\\\\\n",
       "\\hline\n",
       "\t Daily Grand Total        & 134973805                & Monthly Grand Total      & 134973805                & Annual Grand Total       & 134717786                & NA                       & NA                       & NA                       & NA                      \\\\\n",
       "\t Day                      & Number of Bicycle Hires  & Month                    & Number of Bicycle Hires  & Year                     & Number of Bicycle Hires  & Month                    & Average Hire Time (mins) & Against last month       & Against last year       \\\\\n",
       "\t 40389                    & 6897                     & 40360                    & 12461                    & 2010                     & 2180813                  & 40360                    & 17.232565604686624       & NA                       & NA                      \\\\\n",
       "\t 40390                    & 5564                     & 40391                    & 341203                   & 2011                     & 7142449                  & 40391                    & 16.551879672804755       & NA                       & NA                      \\\\\n",
       "\t 40391                    & 4303                     & 40422                    & 540859                   & 2012                     & 9519283                  & 40422                    & 15.219079279442516       & NA                       & NA                      \\\\\n",
       "\t 40392                    & 6642                     & 40452                    & 544412                   & 2013                     & 8045459                  & 40452                    & 15.204481165000038       & NA                       & NA                      \\\\\n",
       "\t 40393                    & 7966                     & 40483                    & 456304                   & 2014                     & 10023897                 & 40483                    & 13.776083488200854       & NA                       & NA                      \\\\\n",
       "\t 40394                    & 7893                     & 40513                    & 285574                   & 2015                     & 9871839                  & 40513                    & 16.820512371574448       & NA                       & NA                      \\\\\n",
       "\t 40395                    & 8724                     & 40544                    & 403178                   & 2016                     & 10303637                 & 40544                    & 16.093229293265011       & NA                       & NA                      \\\\\n",
       "\t 40396                    & 9797                     & 40575                    & 398292                   & 2017                     & 10446044                 & 40575                    & 17.249407469896465       & NA                       & NA                      \\\\\n",
       "\t 40397                    & 6631                     & 40603                    & 556155                   & 2018                     & 10567540                 & 40603                    & 19.952108674739954       & NA                       & NA                      \\\\\n",
       "\t 40398                    & 7864                     & 40634                    & 673639                   & 2019                     & 10168936                 & 40634                    & 26.878840150288209       & NA                       & NA                      \\\\\n",
       "\t 40399                    & 6191                     & 40664                    & 722072                   & 2020                     & 10434167                 & 40664                    & 15.047705768953792       & NA                       & NA                      \\\\\n",
       "\t 40400                    & 4802                     & 40695                    & 638717                   & 2021                     & 10941264                 & 40695                    & 16.39878537756158        & NA                       & NA                      \\\\\n",
       "\t 40401                    & 14013                    & 40725                    & 708454                   & 2022                     & 11505872                 & 40725                    & 15.608177806886539       & NA                       & NA                      \\\\\n",
       "\t 40402                    & 13080                    & 40756                    & 642440                   & 2023                     & 8531168                  & 40756                    & 17.578021293817322       & NA                       & NA                      \\\\\n",
       "\t 40403                    & 12151                    & 40787                    & 684780                   & 2024                     & 5035418                  & 40787                    & 17.336478869125852       & NA                       & NA                      \\\\\n",
       "\t 40404                    & 9195                     & 40817                    & 708802                   & NA                       & NA                       & 40817                    & 16.973469318653162       & 3.5079879669382974E-2    & 0.30195881060667285     \\\\\n",
       "\t 40405                    & 10928                    & 40848                    & 597191                   & NA                       & NA                       & 40848                    & 15.574921591249701       & -0.15746428480732277     & 0.30875688137732737     \\\\\n",
       "\t 40406                    & 15384                    & 40878                    & 408729                   & NA                       & NA                       & 40878                    & 19.411069437206557       & -0.31558077733924328     & 0.43125424583470484     \\\\\n",
       "\t 40407                    & 15396                    & 40909                    & 494325                   & NA                       & NA                       & 40909                    & 16.903680776816874       & 0.20941993350117061      & 0.22607136302079978     \\\\\n",
       "\t 40408                    & 16062                    & 40940                    & 481826                   & NA                       & NA                       & 40940                    & 17.318538227492912       & -2.5284984574925451E-2   & 0.20973054944613501     \\\\\n",
       "\t 40409                    & 17170                    & 40969                    & 818209                   & NA                       & NA                       & 40969                    & 21.240560785813894       & 0.6981420678834267       & 0.471188787298505       \\\\\n",
       "\t 40410                    & 16462                    & 41000                    & 649473                   & NA                       & NA                       & 41000                    & 21.420342339096472       & -0.20622603760163971     & -3.5873813719217607E-2  \\\\\n",
       "\t 40411                    & 11719                    & 41030                    & 926952                   & NA                       & NA                       & 41030                    & 22.050598089221449       & 0.42723715997431766      & 0.28373901771568488     \\\\\n",
       "\t 40412                    & 10129                    & 41061                    & 858805                   & NA                       & NA                       & 41061                    & 22.07957568947549        & -7.3517291078718183E-2   & 0.34457827175415723     \\\\\n",
       "\t 40413                    & 12935                    & 41091                    & 1014174                  & NA                       & NA                       & 41091                    & 22.903726579462692       & 0.18091301284924977      & 0.43153119327436928     \\\\\n",
       "\t 40414                    & 17006                    & 41122                    & 1163171                  & NA                       & NA                       & 41122                    & 23.203370785550877       & 0.14691463200594779      & 0.81055195815951686     \\\\\n",
       "\t 40415                    & 10062                    & 41153                    & 1015145                  & NA                       & NA                       & 41153                    & 20.017364021888497       & -0.12726073810299598     & 0.48243961564298021     \\\\\n",
       "\t 40416                    & 9875                     & 41183                    & 856866                   & NA                       & NA                       & 41183                    & 17.993264991258847       & -0.15591762753104232     & 0.20889331576378178     \\\\\n",
       "\t ... & ... & ... & ... & ... & ... & ... & ... & ... & ...\\\\\n",
       "\t 45475 & 29851 & NA    & NA    & NA    & NA    & NA    & NA    & NA    & NA   \\\\\n",
       "\t 45476 & 29102 & NA    & NA    & NA    & NA    & NA    & NA    & NA    & NA   \\\\\n",
       "\t 45477 & 33013 & NA    & NA    & NA    & NA    & NA    & NA    & NA    & NA   \\\\\n",
       "\t 45478 & 16115 & NA    & NA    & NA    & NA    & NA    & NA    & NA    & NA   \\\\\n",
       "\t 45479 & 16330 & NA    & NA    & NA    & NA    & NA    & NA    & NA    & NA   \\\\\n",
       "\t 45480 & 18236 & NA    & NA    & NA    & NA    & NA    & NA    & NA    & NA   \\\\\n",
       "\t 45481 & 25248 & NA    & NA    & NA    & NA    & NA    & NA    & NA    & NA   \\\\\n",
       "\t 45482 & 23098 & NA    & NA    & NA    & NA    & NA    & NA    & NA    & NA   \\\\\n",
       "\t 45483 & 31742 & NA    & NA    & NA    & NA    & NA    & NA    & NA    & NA   \\\\\n",
       "\t 45484 & 31555 & NA    & NA    & NA    & NA    & NA    & NA    & NA    & NA   \\\\\n",
       "\t 45485 & 27299 & NA    & NA    & NA    & NA    & NA    & NA    & NA    & NA   \\\\\n",
       "\t 45486 & 26402 & NA    & NA    & NA    & NA    & NA    & NA    & NA    & NA   \\\\\n",
       "\t 45487 & 27051 & NA    & NA    & NA    & NA    & NA    & NA    & NA    & NA   \\\\\n",
       "\t 45488 & 23478 & NA    & NA    & NA    & NA    & NA    & NA    & NA    & NA   \\\\\n",
       "\t 45489 & 30739 & NA    & NA    & NA    & NA    & NA    & NA    & NA    & NA   \\\\\n",
       "\t 45490 & 33580 & NA    & NA    & NA    & NA    & NA    & NA    & NA    & NA   \\\\\n",
       "\t 45491 & 33700 & NA    & NA    & NA    & NA    & NA    & NA    & NA    & NA   \\\\\n",
       "\t 45492 & 31605 & NA    & NA    & NA    & NA    & NA    & NA    & NA    & NA   \\\\\n",
       "\t 45493 & 27887 & NA    & NA    & NA    & NA    & NA    & NA    & NA    & NA   \\\\\n",
       "\t 45494 & 26903 & NA    & NA    & NA    & NA    & NA    & NA    & NA    & NA   \\\\\n",
       "\t 45495 & 29737 & NA    & NA    & NA    & NA    & NA    & NA    & NA    & NA   \\\\\n",
       "\t 45496 & 32088 & NA    & NA    & NA    & NA    & NA    & NA    & NA    & NA   \\\\\n",
       "\t 45497 & 32806 & NA    & NA    & NA    & NA    & NA    & NA    & NA    & NA   \\\\\n",
       "\t 45498 & 28334 & NA    & NA    & NA    & NA    & NA    & NA    & NA    & NA   \\\\\n",
       "\t 45499 & 29953 & NA    & NA    & NA    & NA    & NA    & NA    & NA    & NA   \\\\\n",
       "\t 45500 & 29777 & NA    & NA    & NA    & NA    & NA    & NA    & NA    & NA   \\\\\n",
       "\t 45501 & 28508 & NA    & NA    & NA    & NA    & NA    & NA    & NA    & NA   \\\\\n",
       "\t 45502 & 31615 & NA    & NA    & NA    & NA    & NA    & NA    & NA    & NA   \\\\\n",
       "\t 45503 & 34809 & NA    & NA    & NA    & NA    & NA    & NA    & NA    & NA   \\\\\n",
       "\t 45504 & 34683 & NA    & NA    & NA    & NA    & NA    & NA    & NA    & NA   \\\\\n",
       "\\end{tabular}\n"
      ],
      "text/markdown": [
       "\n",
       "| Please.note.that.from.01.August.2017.due.to.delayed.system.events,.daily.hire.figures.are.subject.to.small.incremental.changes..Figures.should.start.to.stabilise.after.a.2.week.period. | X2 | X3 | X4 | X5 | X6 | X7 | X8 | X9 | X10 |\n",
       "|---|---|---|---|---|---|---|---|---|---|\n",
       "| Daily Grand Total        | 134973805                | Monthly Grand Total      | 134973805                | Annual Grand Total       | 134717786                | NA                       | NA                       | NA                       | NA                       |\n",
       "| Day                      | Number of Bicycle Hires  | Month                    | Number of Bicycle Hires  | Year                     | Number of Bicycle Hires  | Month                    | Average Hire Time (mins) | Against last month       | Against last year        |\n",
       "| 40389                    | 6897                     | 40360                    | 12461                    | 2010                     | 2180813                  | 40360                    | 17.232565604686624       | NA                       | NA                       |\n",
       "| 40390                    | 5564                     | 40391                    | 341203                   | 2011                     | 7142449                  | 40391                    | 16.551879672804755       | NA                       | NA                       |\n",
       "| 40391                    | 4303                     | 40422                    | 540859                   | 2012                     | 9519283                  | 40422                    | 15.219079279442516       | NA                       | NA                       |\n",
       "| 40392                    | 6642                     | 40452                    | 544412                   | 2013                     | 8045459                  | 40452                    | 15.204481165000038       | NA                       | NA                       |\n",
       "| 40393                    | 7966                     | 40483                    | 456304                   | 2014                     | 10023897                 | 40483                    | 13.776083488200854       | NA                       | NA                       |\n",
       "| 40394                    | 7893                     | 40513                    | 285574                   | 2015                     | 9871839                  | 40513                    | 16.820512371574448       | NA                       | NA                       |\n",
       "| 40395                    | 8724                     | 40544                    | 403178                   | 2016                     | 10303637                 | 40544                    | 16.093229293265011       | NA                       | NA                       |\n",
       "| 40396                    | 9797                     | 40575                    | 398292                   | 2017                     | 10446044                 | 40575                    | 17.249407469896465       | NA                       | NA                       |\n",
       "| 40397                    | 6631                     | 40603                    | 556155                   | 2018                     | 10567540                 | 40603                    | 19.952108674739954       | NA                       | NA                       |\n",
       "| 40398                    | 7864                     | 40634                    | 673639                   | 2019                     | 10168936                 | 40634                    | 26.878840150288209       | NA                       | NA                       |\n",
       "| 40399                    | 6191                     | 40664                    | 722072                   | 2020                     | 10434167                 | 40664                    | 15.047705768953792       | NA                       | NA                       |\n",
       "| 40400                    | 4802                     | 40695                    | 638717                   | 2021                     | 10941264                 | 40695                    | 16.39878537756158        | NA                       | NA                       |\n",
       "| 40401                    | 14013                    | 40725                    | 708454                   | 2022                     | 11505872                 | 40725                    | 15.608177806886539       | NA                       | NA                       |\n",
       "| 40402                    | 13080                    | 40756                    | 642440                   | 2023                     | 8531168                  | 40756                    | 17.578021293817322       | NA                       | NA                       |\n",
       "| 40403                    | 12151                    | 40787                    | 684780                   | 2024                     | 5035418                  | 40787                    | 17.336478869125852       | NA                       | NA                       |\n",
       "| 40404                    | 9195                     | 40817                    | 708802                   | NA                       | NA                       | 40817                    | 16.973469318653162       | 3.5079879669382974E-2    | 0.30195881060667285      |\n",
       "| 40405                    | 10928                    | 40848                    | 597191                   | NA                       | NA                       | 40848                    | 15.574921591249701       | -0.15746428480732277     | 0.30875688137732737      |\n",
       "| 40406                    | 15384                    | 40878                    | 408729                   | NA                       | NA                       | 40878                    | 19.411069437206557       | -0.31558077733924328     | 0.43125424583470484      |\n",
       "| 40407                    | 15396                    | 40909                    | 494325                   | NA                       | NA                       | 40909                    | 16.903680776816874       | 0.20941993350117061      | 0.22607136302079978      |\n",
       "| 40408                    | 16062                    | 40940                    | 481826                   | NA                       | NA                       | 40940                    | 17.318538227492912       | -2.5284984574925451E-2   | 0.20973054944613501      |\n",
       "| 40409                    | 17170                    | 40969                    | 818209                   | NA                       | NA                       | 40969                    | 21.240560785813894       | 0.6981420678834267       | 0.471188787298505        |\n",
       "| 40410                    | 16462                    | 41000                    | 649473                   | NA                       | NA                       | 41000                    | 21.420342339096472       | -0.20622603760163971     | -3.5873813719217607E-2   |\n",
       "| 40411                    | 11719                    | 41030                    | 926952                   | NA                       | NA                       | 41030                    | 22.050598089221449       | 0.42723715997431766      | 0.28373901771568488      |\n",
       "| 40412                    | 10129                    | 41061                    | 858805                   | NA                       | NA                       | 41061                    | 22.07957568947549        | -7.3517291078718183E-2   | 0.34457827175415723      |\n",
       "| 40413                    | 12935                    | 41091                    | 1014174                  | NA                       | NA                       | 41091                    | 22.903726579462692       | 0.18091301284924977      | 0.43153119327436928      |\n",
       "| 40414                    | 17006                    | 41122                    | 1163171                  | NA                       | NA                       | 41122                    | 23.203370785550877       | 0.14691463200594779      | 0.81055195815951686      |\n",
       "| 40415                    | 10062                    | 41153                    | 1015145                  | NA                       | NA                       | 41153                    | 20.017364021888497       | -0.12726073810299598     | 0.48243961564298021      |\n",
       "| 40416                    | 9875                     | 41183                    | 856866                   | NA                       | NA                       | 41183                    | 17.993264991258847       | -0.15591762753104232     | 0.20889331576378178      |\n",
       "| ... | ... | ... | ... | ... | ... | ... | ... | ... | ... |\n",
       "| 45475 | 29851 | NA    | NA    | NA    | NA    | NA    | NA    | NA    | NA    |\n",
       "| 45476 | 29102 | NA    | NA    | NA    | NA    | NA    | NA    | NA    | NA    |\n",
       "| 45477 | 33013 | NA    | NA    | NA    | NA    | NA    | NA    | NA    | NA    |\n",
       "| 45478 | 16115 | NA    | NA    | NA    | NA    | NA    | NA    | NA    | NA    |\n",
       "| 45479 | 16330 | NA    | NA    | NA    | NA    | NA    | NA    | NA    | NA    |\n",
       "| 45480 | 18236 | NA    | NA    | NA    | NA    | NA    | NA    | NA    | NA    |\n",
       "| 45481 | 25248 | NA    | NA    | NA    | NA    | NA    | NA    | NA    | NA    |\n",
       "| 45482 | 23098 | NA    | NA    | NA    | NA    | NA    | NA    | NA    | NA    |\n",
       "| 45483 | 31742 | NA    | NA    | NA    | NA    | NA    | NA    | NA    | NA    |\n",
       "| 45484 | 31555 | NA    | NA    | NA    | NA    | NA    | NA    | NA    | NA    |\n",
       "| 45485 | 27299 | NA    | NA    | NA    | NA    | NA    | NA    | NA    | NA    |\n",
       "| 45486 | 26402 | NA    | NA    | NA    | NA    | NA    | NA    | NA    | NA    |\n",
       "| 45487 | 27051 | NA    | NA    | NA    | NA    | NA    | NA    | NA    | NA    |\n",
       "| 45488 | 23478 | NA    | NA    | NA    | NA    | NA    | NA    | NA    | NA    |\n",
       "| 45489 | 30739 | NA    | NA    | NA    | NA    | NA    | NA    | NA    | NA    |\n",
       "| 45490 | 33580 | NA    | NA    | NA    | NA    | NA    | NA    | NA    | NA    |\n",
       "| 45491 | 33700 | NA    | NA    | NA    | NA    | NA    | NA    | NA    | NA    |\n",
       "| 45492 | 31605 | NA    | NA    | NA    | NA    | NA    | NA    | NA    | NA    |\n",
       "| 45493 | 27887 | NA    | NA    | NA    | NA    | NA    | NA    | NA    | NA    |\n",
       "| 45494 | 26903 | NA    | NA    | NA    | NA    | NA    | NA    | NA    | NA    |\n",
       "| 45495 | 29737 | NA    | NA    | NA    | NA    | NA    | NA    | NA    | NA    |\n",
       "| 45496 | 32088 | NA    | NA    | NA    | NA    | NA    | NA    | NA    | NA    |\n",
       "| 45497 | 32806 | NA    | NA    | NA    | NA    | NA    | NA    | NA    | NA    |\n",
       "| 45498 | 28334 | NA    | NA    | NA    | NA    | NA    | NA    | NA    | NA    |\n",
       "| 45499 | 29953 | NA    | NA    | NA    | NA    | NA    | NA    | NA    | NA    |\n",
       "| 45500 | 29777 | NA    | NA    | NA    | NA    | NA    | NA    | NA    | NA    |\n",
       "| 45501 | 28508 | NA    | NA    | NA    | NA    | NA    | NA    | NA    | NA    |\n",
       "| 45502 | 31615 | NA    | NA    | NA    | NA    | NA    | NA    | NA    | NA    |\n",
       "| 45503 | 34809 | NA    | NA    | NA    | NA    | NA    | NA    | NA    | NA    |\n",
       "| 45504 | 34683 | NA    | NA    | NA    | NA    | NA    | NA    | NA    | NA    |\n",
       "\n"
      ],
      "text/plain": [
       "     Please.note.that.from.01.August.2017.due.to.delayed.system.events,.daily.hire.figures.are.subject.to.small.incremental.changes..Figures.should.start.to.stabilise.after.a.2.week.period.\n",
       "1    Daily Grand Total                                                                                                                                                                       \n",
       "2    Day                                                                                                                                                                                     \n",
       "3    40389                                                                                                                                                                                   \n",
       "4    40390                                                                                                                                                                                   \n",
       "5    40391                                                                                                                                                                                   \n",
       "6    40392                                                                                                                                                                                   \n",
       "7    40393                                                                                                                                                                                   \n",
       "8    40394                                                                                                                                                                                   \n",
       "9    40395                                                                                                                                                                                   \n",
       "10   40396                                                                                                                                                                                   \n",
       "11   40397                                                                                                                                                                                   \n",
       "12   40398                                                                                                                                                                                   \n",
       "13   40399                                                                                                                                                                                   \n",
       "14   40400                                                                                                                                                                                   \n",
       "15   40401                                                                                                                                                                                   \n",
       "16   40402                                                                                                                                                                                   \n",
       "17   40403                                                                                                                                                                                   \n",
       "18   40404                                                                                                                                                                                   \n",
       "19   40405                                                                                                                                                                                   \n",
       "20   40406                                                                                                                                                                                   \n",
       "21   40407                                                                                                                                                                                   \n",
       "22   40408                                                                                                                                                                                   \n",
       "23   40409                                                                                                                                                                                   \n",
       "24   40410                                                                                                                                                                                   \n",
       "25   40411                                                                                                                                                                                   \n",
       "26   40412                                                                                                                                                                                   \n",
       "27   40413                                                                                                                                                                                   \n",
       "28   40414                                                                                                                                                                                   \n",
       "29   40415                                                                                                                                                                                   \n",
       "30   40416                                                                                                                                                                                   \n",
       "...  ...                                                                                                                                                                                     \n",
       "5089 45475                                                                                                                                                                                   \n",
       "5090 45476                                                                                                                                                                                   \n",
       "5091 45477                                                                                                                                                                                   \n",
       "5092 45478                                                                                                                                                                                   \n",
       "5093 45479                                                                                                                                                                                   \n",
       "5094 45480                                                                                                                                                                                   \n",
       "5095 45481                                                                                                                                                                                   \n",
       "5096 45482                                                                                                                                                                                   \n",
       "5097 45483                                                                                                                                                                                   \n",
       "5098 45484                                                                                                                                                                                   \n",
       "5099 45485                                                                                                                                                                                   \n",
       "5100 45486                                                                                                                                                                                   \n",
       "5101 45487                                                                                                                                                                                   \n",
       "5102 45488                                                                                                                                                                                   \n",
       "5103 45489                                                                                                                                                                                   \n",
       "5104 45490                                                                                                                                                                                   \n",
       "5105 45491                                                                                                                                                                                   \n",
       "5106 45492                                                                                                                                                                                   \n",
       "5107 45493                                                                                                                                                                                   \n",
       "5108 45494                                                                                                                                                                                   \n",
       "5109 45495                                                                                                                                                                                   \n",
       "5110 45496                                                                                                                                                                                   \n",
       "5111 45497                                                                                                                                                                                   \n",
       "5112 45498                                                                                                                                                                                   \n",
       "5113 45499                                                                                                                                                                                   \n",
       "5114 45500                                                                                                                                                                                   \n",
       "5115 45501                                                                                                                                                                                   \n",
       "5116 45502                                                                                                                                                                                   \n",
       "5117 45503                                                                                                                                                                                   \n",
       "5118 45504                                                                                                                                                                                   \n",
       "     X2                      X3                  X4                     \n",
       "1    134973805               Monthly Grand Total 134973805              \n",
       "2    Number of Bicycle Hires Month               Number of Bicycle Hires\n",
       "3    6897                    40360               12461                  \n",
       "4    5564                    40391               341203                 \n",
       "5    4303                    40422               540859                 \n",
       "6    6642                    40452               544412                 \n",
       "7    7966                    40483               456304                 \n",
       "8    7893                    40513               285574                 \n",
       "9    8724                    40544               403178                 \n",
       "10   9797                    40575               398292                 \n",
       "11   6631                    40603               556155                 \n",
       "12   7864                    40634               673639                 \n",
       "13   6191                    40664               722072                 \n",
       "14   4802                    40695               638717                 \n",
       "15   14013                   40725               708454                 \n",
       "16   13080                   40756               642440                 \n",
       "17   12151                   40787               684780                 \n",
       "18   9195                    40817               708802                 \n",
       "19   10928                   40848               597191                 \n",
       "20   15384                   40878               408729                 \n",
       "21   15396                   40909               494325                 \n",
       "22   16062                   40940               481826                 \n",
       "23   17170                   40969               818209                 \n",
       "24   16462                   41000               649473                 \n",
       "25   11719                   41030               926952                 \n",
       "26   10129                   41061               858805                 \n",
       "27   12935                   41091               1014174                \n",
       "28   17006                   41122               1163171                \n",
       "29   10062                   41153               1015145                \n",
       "30   9875                    41183               856866                 \n",
       "...  ...                     ...                 ...                    \n",
       "5089 29851                   NA                  NA                     \n",
       "5090 29102                   NA                  NA                     \n",
       "5091 33013                   NA                  NA                     \n",
       "5092 16115                   NA                  NA                     \n",
       "5093 16330                   NA                  NA                     \n",
       "5094 18236                   NA                  NA                     \n",
       "5095 25248                   NA                  NA                     \n",
       "5096 23098                   NA                  NA                     \n",
       "5097 31742                   NA                  NA                     \n",
       "5098 31555                   NA                  NA                     \n",
       "5099 27299                   NA                  NA                     \n",
       "5100 26402                   NA                  NA                     \n",
       "5101 27051                   NA                  NA                     \n",
       "5102 23478                   NA                  NA                     \n",
       "5103 30739                   NA                  NA                     \n",
       "5104 33580                   NA                  NA                     \n",
       "5105 33700                   NA                  NA                     \n",
       "5106 31605                   NA                  NA                     \n",
       "5107 27887                   NA                  NA                     \n",
       "5108 26903                   NA                  NA                     \n",
       "5109 29737                   NA                  NA                     \n",
       "5110 32088                   NA                  NA                     \n",
       "5111 32806                   NA                  NA                     \n",
       "5112 28334                   NA                  NA                     \n",
       "5113 29953                   NA                  NA                     \n",
       "5114 29777                   NA                  NA                     \n",
       "5115 28508                   NA                  NA                     \n",
       "5116 31615                   NA                  NA                     \n",
       "5117 34809                   NA                  NA                     \n",
       "5118 34683                   NA                  NA                     \n",
       "     X5                 X6                      X7    X8                      \n",
       "1    Annual Grand Total 134717786               NA    NA                      \n",
       "2    Year               Number of Bicycle Hires Month Average Hire Time (mins)\n",
       "3    2010               2180813                 40360 17.232565604686624      \n",
       "4    2011               7142449                 40391 16.551879672804755      \n",
       "5    2012               9519283                 40422 15.219079279442516      \n",
       "6    2013               8045459                 40452 15.204481165000038      \n",
       "7    2014               10023897                40483 13.776083488200854      \n",
       "8    2015               9871839                 40513 16.820512371574448      \n",
       "9    2016               10303637                40544 16.093229293265011      \n",
       "10   2017               10446044                40575 17.249407469896465      \n",
       "11   2018               10567540                40603 19.952108674739954      \n",
       "12   2019               10168936                40634 26.878840150288209      \n",
       "13   2020               10434167                40664 15.047705768953792      \n",
       "14   2021               10941264                40695 16.39878537756158       \n",
       "15   2022               11505872                40725 15.608177806886539      \n",
       "16   2023               8531168                 40756 17.578021293817322      \n",
       "17   2024               5035418                 40787 17.336478869125852      \n",
       "18   NA                 NA                      40817 16.973469318653162      \n",
       "19   NA                 NA                      40848 15.574921591249701      \n",
       "20   NA                 NA                      40878 19.411069437206557      \n",
       "21   NA                 NA                      40909 16.903680776816874      \n",
       "22   NA                 NA                      40940 17.318538227492912      \n",
       "23   NA                 NA                      40969 21.240560785813894      \n",
       "24   NA                 NA                      41000 21.420342339096472      \n",
       "25   NA                 NA                      41030 22.050598089221449      \n",
       "26   NA                 NA                      41061 22.07957568947549       \n",
       "27   NA                 NA                      41091 22.903726579462692      \n",
       "28   NA                 NA                      41122 23.203370785550877      \n",
       "29   NA                 NA                      41153 20.017364021888497      \n",
       "30   NA                 NA                      41183 17.993264991258847      \n",
       "...  ...                ...                     ...   ...                     \n",
       "5089 NA                 NA                      NA    NA                      \n",
       "5090 NA                 NA                      NA    NA                      \n",
       "5091 NA                 NA                      NA    NA                      \n",
       "5092 NA                 NA                      NA    NA                      \n",
       "5093 NA                 NA                      NA    NA                      \n",
       "5094 NA                 NA                      NA    NA                      \n",
       "5095 NA                 NA                      NA    NA                      \n",
       "5096 NA                 NA                      NA    NA                      \n",
       "5097 NA                 NA                      NA    NA                      \n",
       "5098 NA                 NA                      NA    NA                      \n",
       "5099 NA                 NA                      NA    NA                      \n",
       "5100 NA                 NA                      NA    NA                      \n",
       "5101 NA                 NA                      NA    NA                      \n",
       "5102 NA                 NA                      NA    NA                      \n",
       "5103 NA                 NA                      NA    NA                      \n",
       "5104 NA                 NA                      NA    NA                      \n",
       "5105 NA                 NA                      NA    NA                      \n",
       "5106 NA                 NA                      NA    NA                      \n",
       "5107 NA                 NA                      NA    NA                      \n",
       "5108 NA                 NA                      NA    NA                      \n",
       "5109 NA                 NA                      NA    NA                      \n",
       "5110 NA                 NA                      NA    NA                      \n",
       "5111 NA                 NA                      NA    NA                      \n",
       "5112 NA                 NA                      NA    NA                      \n",
       "5113 NA                 NA                      NA    NA                      \n",
       "5114 NA                 NA                      NA    NA                      \n",
       "5115 NA                 NA                      NA    NA                      \n",
       "5116 NA                 NA                      NA    NA                      \n",
       "5117 NA                 NA                      NA    NA                      \n",
       "5118 NA                 NA                      NA    NA                      \n",
       "     X9                     X10                   \n",
       "1    NA                     NA                    \n",
       "2    Against last month     Against last year     \n",
       "3    NA                     NA                    \n",
       "4    NA                     NA                    \n",
       "5    NA                     NA                    \n",
       "6    NA                     NA                    \n",
       "7    NA                     NA                    \n",
       "8    NA                     NA                    \n",
       "9    NA                     NA                    \n",
       "10   NA                     NA                    \n",
       "11   NA                     NA                    \n",
       "12   NA                     NA                    \n",
       "13   NA                     NA                    \n",
       "14   NA                     NA                    \n",
       "15   NA                     NA                    \n",
       "16   NA                     NA                    \n",
       "17   NA                     NA                    \n",
       "18   3.5079879669382974E-2  0.30195881060667285   \n",
       "19   -0.15746428480732277   0.30875688137732737   \n",
       "20   -0.31558077733924328   0.43125424583470484   \n",
       "21   0.20941993350117061    0.22607136302079978   \n",
       "22   -2.5284984574925451E-2 0.20973054944613501   \n",
       "23   0.6981420678834267     0.471188787298505     \n",
       "24   -0.20622603760163971   -3.5873813719217607E-2\n",
       "25   0.42723715997431766    0.28373901771568488   \n",
       "26   -7.3517291078718183E-2 0.34457827175415723   \n",
       "27   0.18091301284924977    0.43153119327436928   \n",
       "28   0.14691463200594779    0.81055195815951686   \n",
       "29   -0.12726073810299598   0.48243961564298021   \n",
       "30   -0.15591762753104232   0.20889331576378178   \n",
       "...  ...                    ...                   \n",
       "5089 NA                     NA                    \n",
       "5090 NA                     NA                    \n",
       "5091 NA                     NA                    \n",
       "5092 NA                     NA                    \n",
       "5093 NA                     NA                    \n",
       "5094 NA                     NA                    \n",
       "5095 NA                     NA                    \n",
       "5096 NA                     NA                    \n",
       "5097 NA                     NA                    \n",
       "5098 NA                     NA                    \n",
       "5099 NA                     NA                    \n",
       "5100 NA                     NA                    \n",
       "5101 NA                     NA                    \n",
       "5102 NA                     NA                    \n",
       "5103 NA                     NA                    \n",
       "5104 NA                     NA                    \n",
       "5105 NA                     NA                    \n",
       "5106 NA                     NA                    \n",
       "5107 NA                     NA                    \n",
       "5108 NA                     NA                    \n",
       "5109 NA                     NA                    \n",
       "5110 NA                     NA                    \n",
       "5111 NA                     NA                    \n",
       "5112 NA                     NA                    \n",
       "5113 NA                     NA                    \n",
       "5114 NA                     NA                    \n",
       "5115 NA                     NA                    \n",
       "5116 NA                     NA                    \n",
       "5117 NA                     NA                    \n",
       "5118 NA                     NA                    "
      ]
     },
     "metadata": {},
     "output_type": "display_data"
    }
   ],
   "source": [
    "#Read workbook and Data sheet\n",
    "cycle_hire <- read.xlsx(\"./data/tfl-daily-cycle-hires.xlsx\", sheet = 2,)\n",
    "cycle_hire"
   ]
  },
  {
   "cell_type": "markdown",
   "metadata": {},
   "source": [
    "### Reading Spatial Data\n",
    "\n",
    "Spatial data are distributed in a variety of formats, but commonly as Shapefiles. These can be read into R using a number of packages, however, is illustrated here with \"rgdal\". The following code loads a Census Tract Shapefile which was downloaded from the [SF OpenData](https://data.sfgov.org/Geographic-Locations-and-Boundaries/Census-2010-Tracts-for-San-Francisco/rarb-5ahf/data)."
   ]
  },
  {
   "cell_type": "code",
   "execution_count": null,
   "metadata": {
    "eval": false,
    "lines_to_next_cell": 0
   },
   "outputs": [],
   "source": [
    "#Download and install package\n",
    "#install.packages(\"rgdal\")"
   ]
  },
  {
   "cell_type": "code",
   "execution_count": 27,
   "metadata": {
    "message": false
   },
   "outputs": [
    {
     "name": "stderr",
     "output_type": "stream",
     "text": [
      "Loading required package: sp\n",
      "rgdal: version: 1.4-4, (SVN revision 833)\n",
      " Geospatial Data Abstraction Library extensions to R successfully loaded\n",
      " Loaded GDAL runtime: GDAL 2.2.3, released 2017/11/20\n",
      " Path to GDAL shared files: C:/ProgramData/Anaconda3/envs/r_env/lib/R/library/rgdal/gdal\n",
      " GDAL binary built with GEOS: TRUE \n",
      " Loaded PROJ.4 runtime: Rel. 4.9.3, 15 August 2016, [PJ_VERSION: 493]\n",
      " Path to PROJ.4 shared files: C:/ProgramData/Anaconda3/envs/r_env/lib/R/library/rgdal/proj\n",
      " Linking to sp version: 1.3-1 \n"
     ]
    },
    {
     "name": "stdout",
     "output_type": "stream",
     "text": [
      "OGR data source with driver: ESRI Shapefile \n",
      "Source: \"C:\\ipython_notebooks\\UrbanAnalyticsCourse\\notebooks\\data\", layer: \"tl_2010_06075_tract10\"\n",
      "with 197 features\n",
      "It has 12 fields\n",
      "Integer64 fields read as strings:  ALAND10 AWATER10 \n"
     ]
    }
   ],
   "source": [
    "#Load package\n",
    "library(rgdal)\n",
    "\n",
    "# Read Shapefile\n",
    "SF <- readOGR(dsn = \"./data\", layer = \"tl_2010_06075_tract10\")"
   ]
  },
  {
   "cell_type": "markdown",
   "metadata": {
    "lines_to_next_cell": 0
   },
   "source": [
    "This has created a SpatialPolygonsDataFrame Reading Spatial Data[^2] object and can view the tract boundaries using the plot() function:\n",
    "\n",
    "[^2]: If a Shapefile containing points or lines imported into R, then these create SpatialPointsDataFrame or SpatialLinesDataFrame respectively.\n",
    "\n",
    "<a id=\"SF_PLOT\"></a>"
   ]
  },
  {
   "cell_type": "code",
   "execution_count": 28,
   "metadata": {},
   "outputs": [
    {
     "data": {
      "image/png": "[encoded data removed]",
      "text/plain": [
       "plot without title"
      ]
     },
     "metadata": {},
     "output_type": "display_data"
    }
   ],
   "source": [
    "plot(SF)"
   ]
  },
  {
   "cell_type": "markdown",
   "metadata": {},
   "source": [
    "The San Francisco peninsula is shown, however, the formal boundaries extend into the ocean and also include the Farallon Islands. For cartographic purposes it may not be desirable to show these extents, and later we will explore how these can be cleaned up.\n",
    "\n",
    "A SpatialPolygonsDataFrame is an object that contains a series of 'slots' holding different items of data:"
   ]
  },
  {
   "cell_type": "code",
   "execution_count": 29,
   "metadata": {},
   "outputs": [
    {
     "data": {
      "text/html": [
       "<ol class=list-inline>\n",
       "\t<li>'data'</li>\n",
       "\t<li>'polygons'</li>\n",
       "\t<li>'plotOrder'</li>\n",
       "\t<li>'bbox'</li>\n",
       "\t<li>'proj4string'</li>\n",
       "</ol>\n"
      ],
      "text/latex": [
       "\\begin{enumerate*}\n",
       "\\item 'data'\n",
       "\\item 'polygons'\n",
       "\\item 'plotOrder'\n",
       "\\item 'bbox'\n",
       "\\item 'proj4string'\n",
       "\\end{enumerate*}\n"
      ],
      "text/markdown": [
       "1. 'data'\n",
       "2. 'polygons'\n",
       "3. 'plotOrder'\n",
       "4. 'bbox'\n",
       "5. 'proj4string'\n",
       "\n",
       "\n"
      ],
      "text/plain": [
       "[1] \"data\"        \"polygons\"    \"plotOrder\"   \"bbox\"        \"proj4string\""
      ]
     },
     "metadata": {},
     "output_type": "display_data"
    }
   ],
   "source": [
    "#. The slotNames() function prints their names.\n",
    "slotNames(SF)"
   ]
  },
  {
   "cell_type": "markdown",
   "metadata": {},
   "source": [
    "The objects stored within the slots can be accessed using the \"@\" symbol:"
   ]
  },
  {
   "cell_type": "code",
   "execution_count": 30,
   "metadata": {},
   "outputs": [
    {
     "data": {
      "text/html": [
       "<table>\n",
       "<thead><tr><th></th><th scope=col>STATEFP10</th><th scope=col>COUNTYFP10</th><th scope=col>TRACTCE10</th><th scope=col>GEOID10</th><th scope=col>NAME10</th><th scope=col>NAMELSAD10</th><th scope=col>MTFCC10</th><th scope=col>FUNCSTAT10</th><th scope=col>ALAND10</th><th scope=col>AWATER10</th><th scope=col>INTPTLAT10</th><th scope=col>INTPTLON10</th></tr></thead>\n",
       "<tbody>\n",
       "\t<tr><th scope=row>0</th><td>06              </td><td>075             </td><td>016500          </td><td>06075016500     </td><td>165             </td><td>Census Tract 165</td><td>G5020           </td><td>S               </td><td>370459          </td><td>0               </td><td>+37.7741958     </td><td>-122.4477884    </td></tr>\n",
       "\t<tr><th scope=row>1</th><td>06              </td><td>075             </td><td>016400          </td><td>06075016400     </td><td>164             </td><td>Census Tract 164</td><td>G5020           </td><td>S               </td><td>309097          </td><td>0               </td><td>+37.7750995     </td><td>-122.4369729    </td></tr>\n",
       "\t<tr><th scope=row>2</th><td>06              </td><td>075             </td><td>016300          </td><td>06075016300     </td><td>163             </td><td>Census Tract 163</td><td>G5020           </td><td>S               </td><td>245867          </td><td>0               </td><td>+37.7760456     </td><td>-122.4295509    </td></tr>\n",
       "\t<tr><th scope=row>3</th><td>06              </td><td>075             </td><td>016100          </td><td>06075016100     </td><td>161             </td><td>Census Tract 161</td><td>G5020           </td><td>S               </td><td>368901          </td><td>0               </td><td>+37.7799831     </td><td>-122.4286631    </td></tr>\n",
       "\t<tr><th scope=row>4</th><td>06              </td><td>075             </td><td>016000          </td><td>06075016000     </td><td>160             </td><td>Census Tract 160</td><td>G5020           </td><td>S               </td><td>158236          </td><td>0               </td><td>+37.7823363     </td><td>-122.4224838    </td></tr>\n",
       "\t<tr><th scope=row>5</th><td>06              </td><td>075             </td><td>015900          </td><td>06075015900     </td><td>159             </td><td>Census Tract 159</td><td>G5020           </td><td>S               </td><td>295388          </td><td>0               </td><td>+37.7833400     </td><td>-122.4293428    </td></tr>\n",
       "</tbody>\n",
       "</table>\n"
      ],
      "text/latex": [
       "\\begin{tabular}{r|llllllllllll}\n",
       "  & STATEFP10 & COUNTYFP10 & TRACTCE10 & GEOID10 & NAME10 & NAMELSAD10 & MTFCC10 & FUNCSTAT10 & ALAND10 & AWATER10 & INTPTLAT10 & INTPTLON10\\\\\n",
       "\\hline\n",
       "\t0 & 06               & 075              & 016500           & 06075016500      & 165              & Census Tract 165 & G5020            & S                & 370459           & 0                & +37.7741958      & -122.4477884    \\\\\n",
       "\t1 & 06               & 075              & 016400           & 06075016400      & 164              & Census Tract 164 & G5020            & S                & 309097           & 0                & +37.7750995      & -122.4369729    \\\\\n",
       "\t2 & 06               & 075              & 016300           & 06075016300      & 163              & Census Tract 163 & G5020            & S                & 245867           & 0                & +37.7760456      & -122.4295509    \\\\\n",
       "\t3 & 06               & 075              & 016100           & 06075016100      & 161              & Census Tract 161 & G5020            & S                & 368901           & 0                & +37.7799831      & -122.4286631    \\\\\n",
       "\t4 & 06               & 075              & 016000           & 06075016000      & 160              & Census Tract 160 & G5020            & S                & 158236           & 0                & +37.7823363      & -122.4224838    \\\\\n",
       "\t5 & 06               & 075              & 015900           & 06075015900      & 159              & Census Tract 159 & G5020            & S                & 295388           & 0                & +37.7833400      & -122.4293428    \\\\\n",
       "\\end{tabular}\n"
      ],
      "text/markdown": [
       "\n",
       "| <!--/--> | STATEFP10 | COUNTYFP10 | TRACTCE10 | GEOID10 | NAME10 | NAMELSAD10 | MTFCC10 | FUNCSTAT10 | ALAND10 | AWATER10 | INTPTLAT10 | INTPTLON10 |\n",
       "|---|---|---|---|---|---|---|---|---|---|---|---|---|\n",
       "| 0 | 06               | 075              | 016500           | 06075016500      | 165              | Census Tract 165 | G5020            | S                | 370459           | 0                | +37.7741958      | -122.4477884     |\n",
       "| 1 | 06               | 075              | 016400           | 06075016400      | 164              | Census Tract 164 | G5020            | S                | 309097           | 0                | +37.7750995      | -122.4369729     |\n",
       "| 2 | 06               | 075              | 016300           | 06075016300      | 163              | Census Tract 163 | G5020            | S                | 245867           | 0                | +37.7760456      | -122.4295509     |\n",
       "| 3 | 06               | 075              | 016100           | 06075016100      | 161              | Census Tract 161 | G5020            | S                | 368901           | 0                | +37.7799831      | -122.4286631     |\n",
       "| 4 | 06               | 075              | 016000           | 06075016000      | 160              | Census Tract 160 | G5020            | S                | 158236           | 0                | +37.7823363      | -122.4224838     |\n",
       "| 5 | 06               | 075              | 015900           | 06075015900      | 159              | Census Tract 159 | G5020            | S                | 295388           | 0                | +37.7833400      | -122.4293428     |\n",
       "\n"
      ],
      "text/plain": [
       "  STATEFP10 COUNTYFP10 TRACTCE10 GEOID10     NAME10 NAMELSAD10       MTFCC10\n",
       "0 06        075        016500    06075016500 165    Census Tract 165 G5020  \n",
       "1 06        075        016400    06075016400 164    Census Tract 164 G5020  \n",
       "2 06        075        016300    06075016300 163    Census Tract 163 G5020  \n",
       "3 06        075        016100    06075016100 161    Census Tract 161 G5020  \n",
       "4 06        075        016000    06075016000 160    Census Tract 160 G5020  \n",
       "5 06        075        015900    06075015900 159    Census Tract 159 G5020  \n",
       "  FUNCSTAT10 ALAND10 AWATER10 INTPTLAT10  INTPTLON10  \n",
       "0 S          370459  0        +37.7741958 -122.4477884\n",
       "1 S          309097  0        +37.7750995 -122.4369729\n",
       "2 S          245867  0        +37.7760456 -122.4295509\n",
       "3 S          368901  0        +37.7799831 -122.4286631\n",
       "4 S          158236  0        +37.7823363 -122.4224838\n",
       "5 S          295388  0        +37.7833400 -122.4293428"
      ]
     },
     "metadata": {},
     "output_type": "display_data"
    }
   ],
   "source": [
    "#Show the top rows of the data object\n",
    "head(SF@data)"
   ]
  },
  {
   "cell_type": "markdown",
   "metadata": {
    "lines_to_next_cell": 0
   },
   "source": [
    "The \"data\" slot contains a data frame with a row of attributes for each of the spatial polygons contained within the SF object; thus, one each row equates to one polygon. Other slots contain useful information such as the spatial [projection](https://en.wikipedia.org/wiki/Spatial_reference_system).\n",
    "\n",
    "### Creating Spatial Data\n",
    "\n",
    "Sometimes it is necessary to create a spatial object from scratch, which is most common for point data given that only a single co-ordinate is required for each feature. This can be achieved using the SpatialPointsDataFrame() function and is used within this example to create a 311 point dataset. 311 data record non emergency calls within the US, and in this case are those which occurred within San Francisco between January and December 2016. The 311 data used here have been simplified from the [original](https://data.sfgov.org/City-Infrastructure/Case-Data-from-San-Francisco-311-SF311-/vw6y-z8j6/data) data to only a few variables, and those calls without spatial references have been removed.\n",
    "\n",
    "<a id=\"point_plot\"></a>"
   ]
  },
  {
   "cell_type": "code",
   "execution_count": 31,
   "metadata": {
    "lines_to_next_cell": 2
   },
   "outputs": [
    {
     "data": {
      "text/html": [
       "<table>\n",
       "<thead><tr><th scope=col>CaseID</th><th scope=col>Category</th><th scope=col>Lat</th><th scope=col>Lon</th></tr></thead>\n",
       "<tbody>\n",
       "\t<tr><td>6405492                     </td><td>Street Defects              </td><td>37.82269                    </td><td>-122.3632                   </td></tr>\n",
       "\t<tr><td>6590944                     </td><td>Sewer Issues                </td><td>37.81054                    </td><td>-122.3634                   </td></tr>\n",
       "\t<tr><td>5646247                     </td><td>Abandoned Vehicle           </td><td>37.72862                    </td><td>-122.3647                   </td></tr>\n",
       "\t<tr><td>5547584                     </td><td>Graffiti Public Property    </td><td>37.72528                    </td><td>-122.3658                   </td></tr>\n",
       "\t<tr><td>6407484                     </td><td>Street and Sidewalk Cleaning</td><td>37.72541                    </td><td>-122.3659                   </td></tr>\n",
       "\t<tr><td>5503177                     </td><td>Temporary Sign Request      </td><td>37.81994                    </td><td>-122.3663                   </td></tr>\n",
       "</tbody>\n",
       "</table>\n"
      ],
      "text/latex": [
       "\\begin{tabular}{r|llll}\n",
       " CaseID & Category & Lat & Lon\\\\\n",
       "\\hline\n",
       "\t 6405492                      & Street Defects               & 37.82269                     & -122.3632                   \\\\\n",
       "\t 6590944                      & Sewer Issues                 & 37.81054                     & -122.3634                   \\\\\n",
       "\t 5646247                      & Abandoned Vehicle            & 37.72862                     & -122.3647                   \\\\\n",
       "\t 5547584                      & Graffiti Public Property     & 37.72528                     & -122.3658                   \\\\\n",
       "\t 6407484                      & Street and Sidewalk Cleaning & 37.72541                     & -122.3659                   \\\\\n",
       "\t 5503177                      & Temporary Sign Request       & 37.81994                     & -122.3663                   \\\\\n",
       "\\end{tabular}\n"
      ],
      "text/markdown": [
       "\n",
       "| CaseID | Category | Lat | Lon |\n",
       "|---|---|---|---|\n",
       "| 6405492                      | Street Defects               | 37.82269                     | -122.3632                    |\n",
       "| 6590944                      | Sewer Issues                 | 37.81054                     | -122.3634                    |\n",
       "| 5646247                      | Abandoned Vehicle            | 37.72862                     | -122.3647                    |\n",
       "| 5547584                      | Graffiti Public Property     | 37.72528                     | -122.3658                    |\n",
       "| 6407484                      | Street and Sidewalk Cleaning | 37.72541                     | -122.3659                    |\n",
       "| 5503177                      | Temporary Sign Request       | 37.81994                     | -122.3663                    |\n",
       "\n"
      ],
      "text/plain": [
       "  CaseID  Category                     Lat      Lon      \n",
       "1 6405492 Street Defects               37.82269 -122.3632\n",
       "2 6590944 Sewer Issues                 37.81054 -122.3634\n",
       "3 5646247 Abandoned Vehicle            37.72862 -122.3647\n",
       "4 5547584 Graffiti Public Property     37.72528 -122.3658\n",
       "5 6407484 Street and Sidewalk Cleaning 37.72541 -122.3659\n",
       "6 5503177 Temporary Sign Request       37.81994 -122.3663"
      ]
     },
     "metadata": {},
     "output_type": "display_data"
    },
    {
     "data": {
      "image/png": "[encoded data removed]",
      "text/plain": [
       "plot without title"
      ]
     },
     "metadata": {},
     "output_type": "display_data"
    }
   ],
   "source": [
    "# Read csv into R\n",
    "data_311 <- read.csv(\"./data/311.csv\")\n",
    "# Have a look at the structure\n",
    "head(data_311)\n",
    "\n",
    "# Create the SpatialPointsDataFrame\n",
    "SP_311 <- SpatialPointsDataFrame(coords = data.frame(data_311$Lon, data_311$Lat), data = data.frame(data_311$CaseID,data_311$Category), proj4string = SF@proj4string)\n",
    "\n",
    "# Show the results\n",
    "plot(SP_311)\n"
   ]
  },
  {
   "cell_type": "markdown",
   "metadata": {},
   "source": [
    "## Subsetting Data\n",
    "\n",
    "It is often necessary to subset data; either restricting a data frame to a set of columns or rows; or in the case of spatial data, creating an extract for a particular set of geographic features. Subsetting can occur in a number of different ways"
   ]
  },
  {
   "cell_type": "code",
   "execution_count": 32,
   "metadata": {},
   "outputs": [
    {
     "data": {
      "text/plain": [
       "\n",
       "        311 External Request            Abandoned Vehicle \n",
       "                         179                         5655 \n",
       "  Blocked Street or SideWalk      Catch Basin Maintenance \n",
       "                         941                          161 \n",
       "                  Color Curb             Damaged Property \n",
       "                         146                         1966 \n",
       "      DPW Volunteer Programs             General Requests \n",
       "                           7                         5976 \n",
       "   Graffiti Private Property     Graffiti Public Property \n",
       "                        7436                         9500 \n",
       "            Illegal Postings    Interdepartmental Request \n",
       "                        1137                           90 \n",
       "          Litter Receptacles                MUNI Feedback \n",
       "                        1552                         1928 \n",
       "                Noise Report        Rec and Park Requests \n",
       "                         626                         1304 \n",
       "Residential Building Request                 Sewer Issues \n",
       "                         295                         2432 \n",
       "               SFHA Requests             Sidewalk or Curb \n",
       "                         693                         1822 \n",
       "                 Sign Repair Street and Sidewalk Cleaning \n",
       "                        1219                        41683 \n",
       "              Street Defects                 Streetlights \n",
       "                        2146                         2155 \n",
       "      Temporary Sign Request             Tree Maintenance \n",
       "                        1045                         1764 \n",
       "   Unpermitted Cab Complaint \n",
       "                           6 "
      ]
     },
     "metadata": {},
     "output_type": "display_data"
    }
   ],
   "source": [
    "#Create a table of frequencies by the categories used within the 311 data\n",
    "table(data_311$Category)\n",
    "\n",
    "# Use the subset() function to extract rows from the data which relate to Sewer Issues\n",
    "sewer_issues <- subset(data_311,Category == \"Sewer Issues\")\n",
    "\n",
    "# Use the square brackets \"[]\" to perform the same task\n",
    "sewer_issues <- data_311[data_311$Category == \"Sewer Issues\",]\n",
    "\n",
    "# Extract a list of IDs for the \"Sewer Issues\"\n",
    "sewer_issues_IDs <- subset(data_311,Category == \"Sewer Issues\", select = \"CaseID\")\n"
   ]
  },
  {
   "cell_type": "markdown",
   "metadata": {},
   "source": [
    "Subsetting can also be useful for spatial data. In the [example above](#SF_PLOT) the full extent of San Francisco was plotted, however, for cartographic purposes it may be preferable to remove the \"Farallon Islands\". This has a GEOID10 of \"06075980401\" which can be used to remove this from a plot:"
   ]
  },
  {
   "cell_type": "code",
   "execution_count": 33,
   "metadata": {},
   "outputs": [
    {
     "data": {
      "image/png": "[encoded data removed]",
      "text/plain": [
       "plot without title"
      ]
     },
     "metadata": {},
     "output_type": "display_data"
    }
   ],
   "source": [
    "plot(SF[SF@data$GEOID10 != \"06075980401\",]) # Removes Farallon Islands from the plot"
   ]
  },
  {
   "cell_type": "markdown",
   "metadata": {},
   "source": [
    "This can also be quite useful if you want to plot only a single feature, for example:"
   ]
  },
  {
   "cell_type": "code",
   "execution_count": 34,
   "metadata": {},
   "outputs": [
    {
     "data": {
      "image/png": "[encoded data removed]",
      "text/plain": [
       "plot without title"
      ]
     },
     "metadata": {},
     "output_type": "display_data"
    }
   ],
   "source": [
    "plot(SF[SF@data$GEOID10 == \"06075980401\",]) # Only plots Farallon Islands"
   ]
  },
  {
   "cell_type": "markdown",
   "metadata": {},
   "source": [
    "You can also use the same syntax to create a new object - for example:"
   ]
  },
  {
   "cell_type": "code",
   "execution_count": 35,
   "metadata": {},
   "outputs": [],
   "source": [
    "SF <- SF[SF@data$GEOID10 != \"06075980401\",] # Overwrites the SF object"
   ]
  },
  {
   "cell_type": "markdown",
   "metadata": {
    "lines_to_next_cell": 0
   },
   "source": [
    "### Clipping Spatial Data\n",
    "\n",
    "Clipping is a process of subsetting using overlapping spatial data. The following code uses the outline of the coast of the U.S. to clip the boundaries of the SF spatial data frame object:"
   ]
  },
  {
   "cell_type": "code",
   "execution_count": 40,
   "metadata": {
    "message": false
   },
   "outputs": [
    {
     "name": "stderr",
     "output_type": "stream",
     "text": [
      "Warning message:\n",
      "\"package 'raster' was built under R version 3.6.3\""
     ]
    },
    {
     "ename": "ERROR",
     "evalue": "Error: package 'sp' 1.3.1 is loaded, but >= 1.4.1 is required by 'raster'\n",
     "output_type": "error",
     "traceback": [
      "Error: package 'sp' 1.3.1 is loaded, but >= 1.4.1 is required by 'raster'\nTraceback:\n",
      "1. library(\"raster\")",
      "2. .getRequiredPackages2(pkgInfo, quietly = quietly)",
      "3. stop(gettextf(msg, sQuote(pkg), current, dep$op, target, sQuote(pkgname)), \n .     call. = FALSE, domain = NA)"
     ]
    }
   ],
   "source": [
    "#Load library\n",
    "library(\"raster\")"
   ]
  },
  {
   "cell_type": "code",
   "execution_count": 41,
   "metadata": {
    "lines_to_next_cell": 0,
    "message": false
   },
   "outputs": [
    {
     "name": "stdout",
     "output_type": "stream",
     "text": [
      "OGR data source with driver: ESRI Shapefile \n",
      "Source: \"C:\\ipython_notebooks\\UrbanAnalyticsCourse\\notebooks\\data\", layer: \"cb_2015_us_county_500k\"\n",
      "with 3233 features\n",
      "It has 9 fields\n",
      "Integer64 fields read as strings:  ALAND AWATER \n"
     ]
    },
    {
     "ename": "ERROR",
     "evalue": "Error in crop(SF, coast): could not find function \"crop\"\n",
     "output_type": "error",
     "traceback": [
      "Error in crop(SF, coast): could not find function \"crop\"\nTraceback:\n"
     ]
    }
   ],
   "source": [
    "#Read in coastal outline (Source from - https://www.census.gov/geo/maps-data/data/cbf/cbf_counties.html)\n",
    "coast <- readOGR(dsn = \"./data\", layer = \"cb_2015_us_county_500k\")\n",
    "\n",
    "SF_clipped <- crop(SF, coast) # Clip the the SF spatial data frame object to the coastline\n",
    "\n",
    "#Plot the results\n",
    "plot(SF_clipped)\n"
   ]
  },
  {
   "cell_type": "markdown",
   "metadata": {
    "lines_to_next_cell": 0
   },
   "source": [
    "<a id=\"clippoint\"></a>\n",
    "\n",
    "We will now perform a similar operation on the SP_311 object:"
   ]
  },
  {
   "cell_type": "code",
   "execution_count": null,
   "metadata": {
    "message": false
   },
   "outputs": [],
   "source": [
    "library(spatialEco)"
   ]
  },
  {
   "cell_type": "code",
   "execution_count": null,
   "metadata": {},
   "outputs": [],
   "source": [
    "SP_311_PIP <- point.in.poly(SP_311, coast) # Clip the the 331 points data object to the coastline"
   ]
  },
  {
   "cell_type": "markdown",
   "metadata": {},
   "source": [
    "You can now see that this has subset the data to the extent of the peninsula area of San Francisco (see the [previous plot](#point_plot)):"
   ]
  },
  {
   "cell_type": "code",
   "execution_count": null,
   "metadata": {
    "lines_to_next_cell": 2
   },
   "outputs": [],
   "source": [
    "plot(SP_311_PIP)"
   ]
  },
  {
   "cell_type": "markdown",
   "metadata": {},
   "source": [
    "## Merging Tabular Data\n",
    "\n",
    "So far we have utilized a single data frame or spatial object; however, it is often the case that in order to generate information, data from multiple sources are required. Where data share a common \"key\", these can be used to combine / link tables together. This might for example be an identifier for a zone; and is one of the reasons why most statistical agencies adopt a standard set of geographic codes to identify areas.\n",
    "\n",
    "In the earlier imported data \"earnings\" this included a UID column which relates to a Tract ID. We can now import an additional data table called bachelors - this also includes the same ID.\n"
   ]
  },
  {
   "cell_type": "code",
   "execution_count": null,
   "metadata": {},
   "outputs": [],
   "source": [
    "#Read CSV file - creates a data frame called earnings\n",
    "bachelors <- read.csv(\"./data/ACS_14_5YR_S1501_with_ann.csv\")\n",
    "\n",
    "#UID - Tract ID\n",
    "#Bachelor_Higher - Bachelor degree or higher %\n",
    "#Bachelor_Higher_m - Bachelor degree or higher % (margin of error)\n"
   ]
  },
  {
   "cell_type": "markdown",
   "metadata": {},
   "source": [
    "Using the matching ID columns on both datasets we can link them together to create a new object with the merge() function:"
   ]
  },
  {
   "cell_type": "code",
   "execution_count": null,
   "metadata": {},
   "outputs": [],
   "source": [
    "#Perform the merge\n",
    "SF_Tract_ACS <- merge(x=earnings,y=bachelors,by.x=\"UID\",by.y=\"UID\")\n",
    "SF_Tract_ACS <- merge(earnings,bachelors,by=\"UID\")# An alternative method to the above, but a shortened version as the ID columns are the same on both tables\n",
    "#You can also use all.x=TRUE (or all.y=TRUE) to keep all the rows from either the x or y table - for more details type ?merge()\n",
    "#The combined table now looks like\n",
    "head(SF_Tract_ACS) # shows the top of the table"
   ]
  },
  {
   "cell_type": "markdown",
   "metadata": {},
   "source": [
    "## Removing and Creating Attributes\n",
    "\n",
    "It is sometimes necessary to remove variables from a tabular object or to create new values. In the following example we will remove some unwanted columns in the SF_clipped object, leaving just the zone id for each polygon."
   ]
  },
  {
   "cell_type": "code",
   "execution_count": null,
   "metadata": {},
   "outputs": [],
   "source": [
    "#Remind yourself what the data look like...\n",
    "head(SF_clipped@data)\n",
    "\n",
    "SF_clipped@data <- data.frame(SF_clipped@data[,\"GEOID10\"]) #Makes a new version of the @data slot with just the values of the GEOID10 column - this is wrapped with the data.frame() function\n",
    "\n",
    "#The data frame within the data slot now looks as follows\n",
    "head(SF_clipped)"
   ]
  },
  {
   "cell_type": "markdown",
   "metadata": {},
   "source": [
    "One thing you may not like on this new data frame is the column heading which has got a bit messy. We can clean this up using the colnames() function."
   ]
  },
  {
   "cell_type": "code",
   "execution_count": null,
   "metadata": {},
   "outputs": [],
   "source": [
    "colnames(SF_clipped@data) <- \"GEOID10\" #Update column names\n",
    "head(SF_clipped@data) #Check the updated values"
   ]
  },
  {
   "cell_type": "markdown",
   "metadata": {},
   "source": [
    "These tract ID are supposed to match with those in the \"SF_Tract_ACS\" object, however, if you are very observant you will notice that there is one issue; the above have a leading zero."
   ]
  },
  {
   "cell_type": "code",
   "execution_count": null,
   "metadata": {},
   "outputs": [],
   "source": [
    "head(SF_Tract_ACS) # show the top of the SF_Tract_ACS object"
   ]
  },
  {
   "cell_type": "markdown",
   "metadata": {},
   "source": [
    "As such, in this instance we will create a new column on the SF_Tract_ACS data frame with a new ID that will match the SF GEOID10 column. We can achieve this using the $ symbol and will call this new variable \"GEOID10\"."
   ]
  },
  {
   "cell_type": "code",
   "execution_count": null,
   "metadata": {},
   "outputs": [],
   "source": [
    "# Creates a new variable with a leading zero\n",
    "SF_Tract_ACS$GEOID10 <- paste0(\"0\",SF_Tract_ACS$UID)\n",
    "head(SF_Tract_ACS)"
   ]
  },
  {
   "cell_type": "markdown",
   "metadata": {},
   "source": [
    "If you remember from [earlier in this practical](#earnings), the earnings data had some values that were stored as factors rather than numeric or integers, and the same is true for both the bachelors data; and now the combined SF_Tract_ACS object. We can check this again as follows:"
   ]
  },
  {
   "cell_type": "code",
   "execution_count": null,
   "metadata": {},
   "outputs": [],
   "source": [
    "str(SF_Tract_ACS)"
   ]
  },
  {
   "cell_type": "markdown",
   "metadata": {},
   "source": [
    "We can also remove the UID column. A quick way of doing this for a single variable is to use \"NULL\":"
   ]
  },
  {
   "cell_type": "code",
   "execution_count": null,
   "metadata": {},
   "outputs": [],
   "source": [
    "SF_Tract_ACS$UID <- NULL"
   ]
  },
  {
   "cell_type": "markdown",
   "metadata": {},
   "source": [
    "We will now convert the factor variables to numerics. The first stage will be to remove the \"-\" and \"**\" characters from the variables with the gsub() function, replacing these with NA values. This also has the effect of converting the factors to characters."
   ]
  },
  {
   "cell_type": "code",
   "execution_count": null,
   "metadata": {},
   "outputs": [],
   "source": [
    "#Replace the \"-\" and \"*\" characters (If you are doing this outside of the US / UK and have a non English locale set, try running Sys.setlocale(\"LC_ALL\",\"English\") before using gsub)\n",
    "SF_Tract_ACS$earnings <- gsub(\"-\",NA,SF_Tract_ACS$earnings,fixed=TRUE) #replace the \"-\" values with NA\n",
    "SF_Tract_ACS$earnings_m <- gsub(\"**\",NA,SF_Tract_ACS$earnings_m,fixed=TRUE) #replace the \"**\" values with NA\n",
    "SF_Tract_ACS$Bachelor_Higher <- gsub(\"-\",NA,SF_Tract_ACS$Bachelor_Higher,fixed=TRUE) #replace the \"-\" values with NA\n",
    "SF_Tract_ACS$Bachelor_Higher_m <- gsub(\"**\",NA,SF_Tract_ACS$Bachelor_Higher_m,fixed=TRUE) #replace the \"**\" values with NA"
   ]
  },
  {
   "cell_type": "markdown",
   "metadata": {},
   "source": [
    "We will now convert these to numeric values:"
   ]
  },
  {
   "cell_type": "code",
   "execution_count": null,
   "metadata": {},
   "outputs": [],
   "source": [
    "SF_Tract_ACS$earnings <- as.numeric(SF_Tract_ACS$earnings)\n",
    "SF_Tract_ACS$earnings_m <- as.numeric(SF_Tract_ACS$earnings_m)\n",
    "SF_Tract_ACS$Bachelor_Higher <- as.numeric(SF_Tract_ACS$Bachelor_Higher)\n",
    "SF_Tract_ACS$Bachelor_Higher_m <- as.numeric(SF_Tract_ACS$Bachelor_Higher_m )"
   ]
  },
  {
   "cell_type": "markdown",
   "metadata": {},
   "source": [
    "Now all the variables other than the \"GEOID10\" are stored as integers or numerics:"
   ]
  },
  {
   "cell_type": "code",
   "execution_count": null,
   "metadata": {
    "lines_to_next_cell": 2
   },
   "outputs": [],
   "source": [
    "str(SF_Tract_ACS)"
   ]
  },
  {
   "cell_type": "markdown",
   "metadata": {},
   "source": [
    "## Merging Spatial Data\n",
    "\n",
    "It is also possible to join tabular data onto a spatial object (e.g. SpatialPolygonsDataFrame) in the same way as with regular data frames. In this example, we will join the newly created SF_Tract_ACS data onto the SF_clipped data frame. "
   ]
  },
  {
   "cell_type": "code",
   "execution_count": null,
   "metadata": {},
   "outputs": [],
   "source": [
    "SF_clipped <- merge(SF_clipped,SF_Tract_ACS, by=\"GEOID10\") # merge\n",
    "head(SF_clipped@data)#show the attribute data"
   ]
  },
  {
   "cell_type": "markdown",
   "metadata": {},
   "source": [
    "### Spatial Joins\n",
    "\n",
    "[Earlier in this practical](#point_plot) we created a SpatialPointDataFrame which we later cropped using the point.in.poly() function to create the \"SP_311_PIP\" object. As a reminder of what this looks like it is plotted below:"
   ]
  },
  {
   "cell_type": "code",
   "execution_count": null,
   "metadata": {},
   "outputs": [],
   "source": [
    "plot(SP_311_PIP)"
   ]
  },
  {
   "cell_type": "markdown",
   "metadata": {},
   "source": [
    "We will now clean up the associated data frame by removing all of the attributes apart from the category (\"data_311.Category\") and then add a sensible column name."
   ]
  },
  {
   "cell_type": "code",
   "execution_count": null,
   "metadata": {},
   "outputs": [],
   "source": [
    "SP_311_PIP@data <- data.frame(SP_311_PIP@data[,\"data_311.Category\"])#subset data\n",
    "colnames(SP_311_PIP@data) <- \"Category\" #update column names"
   ]
  },
  {
   "cell_type": "markdown",
   "metadata": {},
   "source": [
    "Although point.in.poly() was used to [clip a dataset to an extent earlier](#clippoint), the other really useful feature of this [point in polygon](https://en.wikipedia.org/wiki/Point_in_polygon) function is that it also appends the attributes of the polygon to the point. For example, we might be interested in finding out which census tracts each of the 311 calls resides within. As such, we will implement another point in polygon analysis to create a new object SF_clipped_311:"
   ]
  },
  {
   "cell_type": "code",
   "execution_count": null,
   "metadata": {},
   "outputs": [],
   "source": [
    "SF_clipped_311 <- point.in.poly(SP_311_PIP, SF) # point in polygon\n",
    "#Cleanup the attributes\n",
    "SF_clipped_311@data <- SF_clipped_311@data[,c(\"GEOID10\",\"Category\")] #note that we don't need to use the data.frame() function as we are keeping more than one column\n",
    "#Show the top rows of the data\n",
    "head(SF_clipped_311@data)"
   ]
  },
  {
   "cell_type": "markdown",
   "metadata": {},
   "source": [
    "## Writing out and saving your data\n",
    "\n",
    "In order to share data it is often useful to write data frames or spatial objects back out of R as external files. This is very simple, and R supports multiple formats. In these examples, a CSV file and a Shapefile are both created."
   ]
  },
  {
   "cell_type": "code",
   "execution_count": null,
   "metadata": {
    "eval": false
   },
   "outputs": [],
   "source": [
    "#In this example we write out a CSV file from the data slot of the SpatialPointsDataFrame SF_clipped_311\n",
    "write.csv(SF_clipped_311@data,\"311_Tract_Coded.csv\")"
   ]
  },
  {
   "cell_type": "markdown",
   "metadata": {},
   "source": [
    "This has created a CSV file \"311_Tract_Coded.csv\" in your working directory; we will use this in the next practical class - \"Basic SQL\".\n",
    "\n",
    "It is also possible to write out a Shapefile "
   ]
  },
  {
   "cell_type": "code",
   "execution_count": null,
   "metadata": {
    "eval": false
   },
   "outputs": [],
   "source": [
    "#This will write out a Shapefile for San Francisco - note, a warning is returned as the column names are a little longer than are allowed within a Shapefile and as such are automatically shortened.\n",
    "writeOGR(SF_clipped, \".\", \"SF_clipped\", driver=\"ESRI Shapefile\")"
   ]
  },
  {
   "cell_type": "markdown",
   "metadata": {},
   "source": [
    "# Further resources / training\n",
    "* [R dplyr](https://www.datacamp.com/courses/dplyr-data-manipulation-r-tutorial) - An alternative method of manipulating data in R using the dplyr package"
   ]
  }
 ],
 "metadata": {
  "jupytext": {
   "cell_metadata_filter": "eval,message,-all",
   "main_language": "R",
   "notebook_metadata_filter": "-all"
  },
  "kernelspec": {
   "display_name": "R",
   "language": "R",
   "name": "ir"
  },
  "language_info": {
   "codemirror_mode": "r",
   "file_extension": ".r",
   "mimetype": "text/x-r-source",
   "name": "R",
   "pygments_lexer": "r",
   "version": "3.6.1"
  }
 },
 "nbformat": 4,
 "nbformat_minor": 4
}
