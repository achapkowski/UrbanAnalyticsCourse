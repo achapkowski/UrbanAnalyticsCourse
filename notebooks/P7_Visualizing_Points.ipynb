{
 "cells": [
  {
   "cell_type": "raw",
   "metadata": {},
   "source": [
    "---\n",
    "title: \"7. Data Viz 3 - Visualizing Point Patterns\"\n",
    "output: html_document\n",
    "---"
   ]
  },
  {
   "cell_type": "markdown",
   "metadata": {},
   "source": [
    "# THIS CODE IS JUST FOR REFERENCE. TURN IN THE NOTEBOOK TO GET CREDIT."
   ]
  },
  {
   "cell_type": "markdown",
   "metadata": {},
   "source": [
    "\n",
    "## Assignment Objectives\n",
    "\n",
    "By the end of this practical lab you will be able to:\n",
    "\n",
    "* Manipulate and re-code date and time stamps\n",
    "* Create summary graphics showing the temporal attributes of point data\n",
    "* Map point data using bins and density plots\n",
    "\n",
    "## Visualizing Points\n",
    "We will first read some crime data into R for the [City of Chicago, USA](https://data.cityofchicago.org/view/5cd6-ry5g). This contains those crimes which occurred during the year 2016 as of 24th December; with the attributes including the category of the crime and a variety of other information such as location and date / time. The following code imports the data, parses the date and time stamp using the base R function strptime() and also ymd_hms() from the package lubridate. We then remove unwanted columns and restrict the results to those coded as \"BURGLARY\"."
   ]
  },
  {
   "cell_type": "code",
   "execution_count": null,
   "metadata": {
    "eval": false,
    "lines_to_next_cell": 0
   },
   "outputs": [],
   "source": [
    "install.packages(\"lubridate\")"
   ]
  },
  {
   "cell_type": "code",
   "execution_count": null,
   "metadata": {
    "message": false,
    "warning": false
   },
   "outputs": [],
   "source": [
    "library(lubridate)"
   ]
  },
  {
   "cell_type": "markdown",
   "metadata": {},
   "source": [
    "# Import Crimes\n",
    "crimes <- read.csv(\"./data/chicago_crimes_2016.csv\")\n",
    "\n",
    "#Parse date & time\n",
    "crimes$New_Date <- ymd_hms((strptime(crimes$Date, \"%m/%d/%Y %I:%M:%S %p\",tz=\"UTC\")))\n",
    "\n",
    "#Subset the data to remove unwanted colums\n",
    "crimes <- crimes[crimes$Primary.Type == \"BURGLARY\",c(\"ID\",\"Latitude\",\"Longitude\",\"New_Date\")]\n",
    "\n",
    "# Remove crimes with no lat / lon\n",
    "crimes <- crimes[!is.na(crimes$Latitude),]\n",
    "\n",
    "#View the top of the data\n",
    "head(crimes)\n",
    "```\n",
    "\n",
    "We can then see how the burglaries are distributed by day of the week. We use the wday() function to convert the date column into days - by adding \"label = TRUE\" this returns a text string relating to the day of the week (e.g. \"Mon\"):\n",
    "```{r message=FALSE, warning=FALSE}\n",
    "library(ggplot2)\n",
    "```"
   ]
  },
  {
   "cell_type": "code",
   "execution_count": null,
   "metadata": {},
   "outputs": [],
   "source": [
    "ggplot(data=crimes, aes(wday(crimes$New_Date,label = TRUE))) +\n",
    "    geom_bar() +\n",
    "    xlab(\"Day\") + \n",
    "    ylab(\"Burglaries (count)\")"
   ]
  },
  {
   "cell_type": "markdown",
   "metadata": {},
   "source": [
    "We can see that in 2016 there were more recorded burglary incidences during the week. We can also look at changes month, however, this time using the month() function:"
   ]
  },
  {
   "cell_type": "code",
   "execution_count": null,
   "metadata": {},
   "outputs": [],
   "source": [
    "ggplot(data=crimes, aes(month(crimes$New_Date,label = TRUE))) +\n",
    "    geom_bar() +\n",
    "    xlab(\"Month\") + \n",
    "    ylab(\"Burglaries (count)\")"
   ]
  },
  {
   "cell_type": "markdown",
   "metadata": {},
   "source": [
    "So far we have displayed months and days separately, however, we can also use the facet_grid option to produce separate plots for each month; and additionally add an aesthetic to the geom_bar that colors each day differently."
   ]
  },
  {
   "cell_type": "code",
   "execution_count": null,
   "metadata": {},
   "outputs": [],
   "source": [
    "ggplot(data=crimes, aes(wday(crimes$New_Date,label = TRUE))) +\n",
    "    geom_bar(aes(,fill=wday(crimes$New_Date,label = TRUE))) +\n",
    "    xlab(\"Day\") + \n",
    "    ylab(\"Burglaries (count)\") +\n",
    "    facet_grid(~month(crimes$New_Date,label = TRUE)) +\n",
    "    theme(axis.text.x = element_text(angle = 90, hjust = 1),legend.position=\"none\")"
   ]
  },
  {
   "cell_type": "markdown",
   "metadata": {},
   "source": [
    "Using a similar technique we can also explore the time of the day during which burglaries have been recorded as having occurred and then view by quarter. When interpreting these data it is worth thinking about potential bias within the crime data - for example, why are so many burglaries recorded as having taken place first thing in the morning?"
   ]
  },
  {
   "cell_type": "code",
   "execution_count": null,
   "metadata": {},
   "outputs": [],
   "source": [
    "#Create a summary data frame of the counts of burglaries by hour time band and quarter of the year\n",
    "t <- data.frame(table(hour(crimes$New_Date),quarter(crimes$New_Date)))\n",
    "\n",
    "colnames(t) <- c(\"Time\",\"Quarter\",\"Freq\") # Name columns as something sensible\n",
    "\n",
    "#Create plot\n",
    "p <- ggplot(t, aes(x=Time, y=Freq, group=Quarter, colour = Quarter))\n",
    "p + geom_line()\n"
   ]
  },
  {
   "cell_type": "markdown",
   "metadata": {},
   "source": [
    "As we showed in the previous practical (6. Data Viz 2 - Mapping Areas and Context), we can map points using ggmap - as a representation this is however not that useful and doesn't give a clear picture of the distribution of burglaries:"
   ]
  },
  {
   "cell_type": "code",
   "execution_count": null,
   "metadata": {
    "lines_to_next_cell": 2,
    "message": false,
    "warning": false
   },
   "outputs": [],
   "source": [
    "library(ggmap)"
   ]
  },
  {
   "cell_type": "code",
   "execution_count": null,
   "metadata": {
    "message": false,
    "warning": false
   },
   "outputs": [],
   "source": [
    "#Get background map for Chicago\n",
    "chicago <- get_map(location = \"chicago\", zoom = 11)\n",
    "\n",
    "#Basic point plot\n",
    "ggmap(chicago) + geom_point(data = crimes, aes(x = Longitude, y = Latitude))"
   ]
  },
  {
   "cell_type": "markdown",
   "metadata": {},
   "source": [
    "We can improve this a bit by shrinking the point size and using transparency, however, this still isn't great as the point density is too high:\n"
   ]
  },
  {
   "cell_type": "code",
   "execution_count": null,
   "metadata": {
    "message": false,
    "warning": false
   },
   "outputs": [],
   "source": [
    "#Basic point plot with point size reduced and transparency increased\n",
    "ggmap(chicago) + \n",
    "    geom_point(data = crimes, aes(x = Longitude, y = Latitude),alpha = 0.1, size=0.7)"
   ]
  },
  {
   "cell_type": "markdown",
   "metadata": {},
   "source": [
    "We showed in a previous lab that one way in which we can manage point data is to aggregate these up into a given zonal geography (see lab 2. Data Manipulation in R); however, this assumes that the data being observed have a [logical bounding geography](https://en.wikipedia.org/wiki/Modifiable_areal_unit_problem). When this is not the case it may be effective to spatially bin the data into a set of uniform and discrete zones. It is common for these visualizations to use either grids (squares) or hexagons; however, as with other formal zonal definitions (e.g. blocks / census tracts etc), the choice of grid or hex size may impact the patterns shown.\n",
    "\n",
    "We can create a gridded map using the stat_bin2d function - the size of the grid is adjusted with the bins size, and creates an aggregated count within each cell:"
   ]
  },
  {
   "cell_type": "code",
   "execution_count": null,
   "metadata": {
    "message": false,
    "warning": false
   },
   "outputs": [],
   "source": [
    "ggmap(chicago, base_layer = ggplot(crimes, aes(x=Longitude, y=Latitude))) +\n",
    "stat_bin2d(bins = 20)"
   ]
  },
  {
   "cell_type": "markdown",
   "metadata": {},
   "source": [
    "Higher numbers create a smaller grid size:"
   ]
  },
  {
   "cell_type": "code",
   "execution_count": null,
   "metadata": {
    "message": false,
    "warning": false
   },
   "outputs": [],
   "source": [
    "ggmap(chicago, base_layer = ggplot(crimes, aes(x=Longitude, y=Latitude))) +\n",
    "stat_bin2d(bins = 50)"
   ]
  },
  {
   "cell_type": "markdown",
   "metadata": {},
   "source": [
    "A similar representation can be made created with hexagons instead of squares, however, we need a number of additional parameters that prevent the output map being distorted. First we plot without these:\n"
   ]
  },
  {
   "cell_type": "code",
   "execution_count": null,
   "metadata": {
    "message": false,
    "warning": false
   },
   "outputs": [],
   "source": [
    "ggmap(chicago, base_layer = ggplot(crimes, aes(x=Longitude, y=Latitude))) +\n",
    "coord_cartesian() +\n",
    "stat_binhex(bins=50)"
   ]
  },
  {
   "cell_type": "markdown",
   "metadata": {},
   "source": [
    "And then we plot with the adjustment which prevents the stretching of the x axis"
   ]
  },
  {
   "cell_type": "code",
   "execution_count": null,
   "metadata": {
    "message": false,
    "warning": false
   },
   "outputs": [],
   "source": [
    "ggmap(chicago, base_layer = ggplot(crimes, aes(x=Longitude, y=Latitude))) +\n",
    "coord_cartesian(xlim = c(-87.84918,-87.3)) +\n",
    "stat_binhex(bins=50)"
   ]
  },
  {
   "cell_type": "markdown",
   "metadata": {},
   "source": [
    "We can then tidy the map up further, and in particular, remove the grey area and axis content from the display:\n"
   ]
  },
  {
   "cell_type": "code",
   "execution_count": null,
   "metadata": {
    "message": false,
    "warning": false
   },
   "outputs": [],
   "source": [
    "ggmap(chicago, base_layer = ggplot(crimes, aes(x=Longitude, y=Latitude))) +\n",
    "coord_cartesian(xlim = c(-87.84918,-87.3)) +\n",
    "stat_binhex(bins=50) + \n",
    "theme_bw() +\n",
    "theme(axis.line = element_blank(),\n",
    "      axis.text = element_blank(),\n",
    "      axis.title=element_blank(),\n",
    "      axis.ticks = element_blank(),\n",
    "      legend.key = element_blank(),\n",
    "      panel.grid.major = element_blank(),\n",
    "      panel.grid.minor = element_blank(),\n",
    "      panel.border = element_blank(),\n",
    "      panel.background = element_blank())"
   ]
  },
  {
   "cell_type": "markdown",
   "metadata": {},
   "source": [
    "An alternative to aggregating points into zones of different types is to calculate a [density surface](http://www.spatialanalysisonline.com/HTML/index.html?density__kernels_and_occupancy.htm). This is implemented within ggmap through the stat_density2d function. The granularity of the surface is controlled with the bins argument. The legend displays both the alpha and the color choices because the \"fill = ..level..,alpha=..level..\" options are set; the \"..level..\" is an internal variable that refers to the number of bins chosen. We will suppress the alpha (bottom) legend item in the next plot.\n"
   ]
  },
  {
   "cell_type": "code",
   "execution_count": null,
   "metadata": {
    "message": false,
    "warning": false
   },
   "outputs": [],
   "source": [
    "ggmap(chicago, base_layer = ggplot(crimes)) +\n",
    "  stat_density2d(aes(x = Longitude, y = Latitude,fill = ..level..,alpha=..level..), bins = 10, geom = \"polygon\", data = crimes) +\n",
    "  scale_fill_gradient(low = \"black\", high = \"red\")"
   ]
  },
  {
   "cell_type": "markdown",
   "metadata": {},
   "source": [
    "We can extend the previous plot to add facets for two newly created variables, plus additionally remove some of the unwanted features of the previous map. First create two new columns that record the quarter and day of the week in which the burglary was recorded."
   ]
  },
  {
   "cell_type": "code",
   "execution_count": null,
   "metadata": {},
   "outputs": [],
   "source": [
    "#Append a quarter variable to the crimes data frame\n",
    "crimes$Q <- quarter(crimes$New_Date)\n",
    "#Append a day variable to the crimes data frame\n",
    "crimes$D <- wday(crimes$New_Date,label = TRUE)"
   ]
  },
  {
   "cell_type": "markdown",
   "metadata": {},
   "source": [
    "Create a plot for quarters:"
   ]
  },
  {
   "cell_type": "code",
   "execution_count": null,
   "metadata": {
    "message": false,
    "warning": false
   },
   "outputs": [],
   "source": [
    "# Create a plot\n",
    "ggmap(chicago, base_layer = ggplot(crimes)) +\n",
    "  stat_density2d(aes(x = Longitude, y = Latitude,fill = ..level..,alpha=..level..), bins = 10, geom = \"polygon\", data = crimes) +\n",
    "  scale_fill_gradient(low = \"black\", high = \"red\") +\n",
    "  facet_wrap(~ Q) +\n",
    "  guides(alpha=FALSE) +\n",
    "  theme_bw() +\n",
    "theme(axis.line = element_blank(),\n",
    "      axis.text = element_blank(),\n",
    "      axis.title=element_blank(),\n",
    "      axis.ticks = element_blank(),\n",
    "      legend.key = element_blank(),\n",
    "      panel.grid.major = element_blank(),\n",
    "      panel.grid.minor = element_blank(),\n",
    "      panel.border = element_blank(),\n",
    "      panel.background = element_blank())"
   ]
  },
  {
   "cell_type": "markdown",
   "metadata": {},
   "source": [
    "Create a plot for days:"
   ]
  },
  {
   "cell_type": "code",
   "execution_count": null,
   "metadata": {
    "lines_to_next_cell": 2,
    "message": false,
    "warning": false
   },
   "outputs": [],
   "source": [
    "# Create a plot\n",
    "ggmap(chicago, base_layer = ggplot(crimes)) +\n",
    "  stat_density2d(aes(x = Longitude, y = Latitude,fill = ..level..,alpha=..level..), bins = 10, geom = \"polygon\", data = crimes) +\n",
    "  scale_fill_gradient(low = \"black\", high = \"red\") +\n",
    "  facet_wrap(~ D) +\n",
    "  guides(alpha=FALSE) +\n",
    "  theme_bw() +\n",
    "theme(axis.line = element_blank(),\n",
    "      axis.text = element_blank(),\n",
    "      axis.title=element_blank(),\n",
    "      axis.ticks = element_blank(),\n",
    "      legend.key = element_blank(),\n",
    "      panel.grid.major = element_blank(),\n",
    "      panel.grid.minor = element_blank(),\n",
    "      panel.border = element_blank(),\n",
    "      panel.background = element_blank())"
   ]
  },
  {
   "cell_type": "markdown",
   "metadata": {},
   "source": [
    "# Further resources / training\n",
    "* [Statistical Analysis of Spatial and Spatio-Temporal Point Patterns](https://www.crcpress.com/Statistical-Analysis-of-Spatial-and-Spatio-Temporal-Point-Patterns-Third/Diggle/p/book/9781466560239) - models and statistical methods for analyzing spatially referenced point data"
   ]
  }
 ],
 "metadata": {
  "jupytext": {
   "cell_metadata_filter": "warning,message,eval,-all",
   "main_language": "R",
   "notebook_metadata_filter": "-all"
  },
  "kernelspec": {
   "display_name": "Python 3 (ipykernel)",
   "language": "python",
   "name": "python3"
  },
  "language_info": {
   "codemirror_mode": {
    "name": "ipython",
    "version": 3
   },
   "file_extension": ".py",
   "mimetype": "text/x-python",
   "name": "python",
   "nbconvert_exporter": "python",
   "pygments_lexer": "ipython3",
   "version": "3.12.4"
  }
 },
 "nbformat": 4,
 "nbformat_minor": 4
}
