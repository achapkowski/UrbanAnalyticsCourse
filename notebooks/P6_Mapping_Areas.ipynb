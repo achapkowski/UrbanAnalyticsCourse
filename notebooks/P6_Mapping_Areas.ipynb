{
 "cells": [
  {
   "cell_type": "raw",
   "metadata": {},
   "source": [
    "---\n",
    "title: \"Data Viz 2: Mapping Areas and Context\"\n",
    "output: html_document\n",
    "---"
   ]
  },
  {
   "cell_type": "markdown",
   "metadata": {},
   "source": [
    "## Assignment Objectives\n",
    "By the end of this practical lab you will be able to:\n",
    "* Map the attributes of areas including contextual points and lines using base R\n",
    "* Creating layered maps using ggplot2\n",
    "* Creating layered maps using the tmap package\n",
    "\n",
    "## Making maps in R\n",
    "Like most analysis task within R there are a few different ways in we can make maps. In this practical lab we will introduce various ways in which we can map the attribute of areas and contextualize these to build a richer cartography. We will illustrate this through base R, and a series of packages including ggplot2 and tmap.\n",
    "\n",
    "## Choropleth mapping in base R\n",
    "\n",
    "Before we can create a map in R, we first need to import some spatial data. We will read in two shapefiles, the first containing polygons that will later be used to create a [choropleth map](https://en.wikipedia.org/wiki/Choropleth_map), and the second some street segments that will be used to provide context."
   ]
  },
  {
   "cell_type": "code",
   "execution_count": null,
   "metadata": {
    "message": false,
    "warning": false
   },
   "outputs": [],
   "source": [
    "#Load required package\n",
    "library(rgdal)\n",
    "#Read polygons (creates a SpatialPolygonsDataFrame object)\n",
    "LSOA <- readOGR(\"./data\", \"E06000042\",verbose = FALSE)\n",
    "#Read lines (creates a SpatialLinesDataFrame object)\n",
    "roads <- readOGR(\"./data\", \"Road\",verbose = FALSE)"
   ]
  },
  {
   "cell_type": "markdown",
   "metadata": {},
   "source": [
    "As was shown in the previous practical (see 2. Data Manipulation in R), we can use the plot() function which is built into base R to show the outlines of the polygons contained within the \"LSOA\" object."
   ]
  },
  {
   "cell_type": "code",
   "execution_count": null,
   "metadata": {},
   "outputs": [],
   "source": [
    "plot(LSOA)"
   ]
  },
  {
   "cell_type": "markdown",
   "metadata": {},
   "source": [
    "This map shows the Lower Layer Super Output Area boundaries for the city of Milton Keynes, UK. The attributes of the data frame are the overall and domain scores for the  [2015 Index of Multiple Deprivation](https://www.gov.uk/government/statistics/english-indices-of-deprivation-2015).\n",
    "\n",
    "We will shade in this map using the overall IMD score which is stored in the column \"imd_rank\". There are a total of 152 values."
   ]
  },
  {
   "cell_type": "code",
   "execution_count": null,
   "metadata": {},
   "outputs": [],
   "source": [
    "LSOA@data$imd_rank"
   ]
  },
  {
   "cell_type": "markdown",
   "metadata": {},
   "source": [
    "The first step is to find suitable breakpoints for the data contained in the imd_rank column. The continuous data needs to be assigned into categories so different colors can be applied on a choropleth map. There are numerous ways of doing this such as jenks, standard deviations or equal intervals. In this example we use a new function classIntervals() from the \"classInt\" package to find the ranges needed to divide the the imd_rank into five categories. In this example we use the style \"fisher\" to specify [jenks](https://en.wikipedia.org/wiki/Jenks_natural_breaks_optimization) as the break point."
   ]
  },
  {
   "cell_type": "code",
   "execution_count": null,
   "metadata": {
    "eval": false
   },
   "outputs": [],
   "source": [
    "# install: conda install -c r r-classint --yes\n"
   ]
  },
  {
   "cell_type": "code",
   "execution_count": null,
   "metadata": {},
   "outputs": [],
   "source": [
    "# Load package\n",
    "library(classInt)"
   ]
  },
  {
   "cell_type": "code",
   "execution_count": null,
   "metadata": {},
   "outputs": [],
   "source": [
    "data = LSOA@data$imd_rank\n",
    "# drops the null values and casts the values to integers\n",
    "data = na.omit(as.integer(data))"
   ]
  },
  {
   "cell_type": "code",
   "execution_count": null,
   "metadata": {},
   "outputs": [],
   "source": [
    "#Create breaks\n",
    "breaks <- classIntervals(data, n = 5, style = \"fisher\")"
   ]
  },
  {
   "cell_type": "markdown",
   "metadata": {},
   "source": [
    "If we print the object created by the classIntervals() function, a summary is printed showing you what breaks have been assigned, and how many areas are within these ranges."
   ]
  },
  {
   "cell_type": "code",
   "execution_count": null,
   "metadata": {},
   "outputs": [],
   "source": [
    "breaks"
   ]
  },
  {
   "cell_type": "markdown",
   "metadata": {},
   "source": [
    "We need to choose some colors that we will assign to each of the break points in the data. We will now use another package called \"RColorBrewer\" which provides a series of color pallets that are suitable for mapping. You can have a look at the color pallets online: http://colorbrewer2.org. Each of these pallets are named; and you can see all the available pallets as follows."
   ]
  },
  {
   "cell_type": "code",
   "execution_count": null,
   "metadata": {
    "eval": false
   },
   "outputs": [],
   "source": [
    "#install.packages(\"RColorBrewer\")\n",
    "#conda install r::r-rcolorbrewer --yes"
   ]
  },
  {
   "cell_type": "code",
   "execution_count": null,
   "metadata": {},
   "outputs": [],
   "source": [
    "#Load package\n",
    "library(RColorBrewer)\n",
    "#Display all pallets\n",
    "display.brewer.all()"
   ]
  },
  {
   "cell_type": "markdown",
   "metadata": {},
   "source": [
    "We will then choose six colors from the pallet \"YlOrRd\", and print them to the terminal. You will see that the colors are stored as [hex values](http://www.color-hex.com/)."
   ]
  },
  {
   "cell_type": "code",
   "execution_count": null,
   "metadata": {},
   "outputs": [],
   "source": [
    "my_colours <- brewer.pal(6, \"YlOrRd\")\n",
    "my_colours"
   ]
  },
  {
   "cell_type": "markdown",
   "metadata": {},
   "source": [
    "We can then use the function findColours() to select the appropriate color for each of the numbers we intend to map, depending on where these fit within the break points we calculated."
   ]
  },
  {
   "cell_type": "code",
   "execution_count": null,
   "metadata": {},
   "outputs": [],
   "source": [
    "colours_to_map <- findColours(breaks, my_colours)"
   ]
  },
  {
   "cell_type": "markdown",
   "metadata": {},
   "source": [
    "We can then create a basic map using this list of colors and the `plot()` function again."
   ]
  },
  {
   "cell_type": "code",
   "execution_count": null,
   "metadata": {},
   "outputs": [],
   "source": [
    "plot(LSOA,col=colours_to_map)"
   ]
  },
  {
   "cell_type": "markdown",
   "metadata": {},
   "source": [
    "We might also want to create a map without the borders, and this can be controlled with an additional parameter which is set to \"NA\""
   ]
  },
  {
   "cell_type": "code",
   "execution_count": null,
   "metadata": {},
   "outputs": [],
   "source": [
    "plot(LSOA,col=colours_to_map,border = NA)"
   ]
  },
  {
   "cell_type": "markdown",
   "metadata": {},
   "source": [
    "We can also add additional layers onto the map using a further parameter (\"add\") which is set to \"TRUE\". Without the \"add=TRUE\", every time plot() is called, the previous plot is replaced. Two further parameters are used, \"col\" to specify the line color, and \"lwd\" the line width."
   ]
  },
  {
   "cell_type": "code",
   "execution_count": null,
   "metadata": {},
   "outputs": [],
   "source": [
    "plot(LSOA,col=colours_to_map,border = NA)\n",
    "plot(roads,add=TRUE, col=\"#6B6B6B\",lwd=0.3)"
   ]
  },
  {
   "cell_type": "markdown",
   "metadata": {},
   "source": [
    "Another feature that is very common to see on a map is a legend which tells you what values the colors used on the map correspond to. This combines the legend() function with a further function leglabs() (from the maptools package) to create a legend:"
   ]
  },
  {
   "cell_type": "code",
   "execution_count": null,
   "metadata": {
    "eval": false,
    "lines_to_next_cell": 0
   },
   "outputs": [],
   "source": [
    "# alternative: conda install -c conda-forge r-maptools\n",
    "# install.packages(\"maptools\")"
   ]
  },
  {
   "cell_type": "code",
   "execution_count": null,
   "metadata": {
    "lines_to_next_cell": 2,
    "message": false,
    "warning": false
   },
   "outputs": [],
   "source": [
    "library(maptools)"
   ]
  },
  {
   "cell_type": "code",
   "execution_count": null,
   "metadata": {
    "lines_to_next_cell": 2
   },
   "outputs": [],
   "source": [
    "# Plot choropleth\n",
    "plot(LSOA,col=colours_to_map,border = NA)\n",
    "# Plot roads\n",
    "plot(roads,add=TRUE, col=\"#6B6B6B\",lwd=0.3)\n",
    "# Add legend\n",
    "legend(\"bottomleft\" ,legend = leglabs(breaks$brks, between = \" to \"), fill = my_colours, bty = \"n\",cex=0.6)"
   ]
  },
  {
   "cell_type": "markdown",
   "metadata": {},
   "source": [
    "We will now add some points to the map by creating a new Spatial Points Data Frame as we demonstrated in the previous practical (see 2. Data Manipulation in R):"
   ]
  },
  {
   "cell_type": "code",
   "execution_count": null,
   "metadata": {},
   "outputs": [],
   "source": [
    "#Read in the location of schools\n",
    "schools <- read.csv(\"./data/Milton_Keynes_SS_13.csv\")\n",
    "schools"
   ]
  },
  {
   "cell_type": "markdown",
   "metadata": {},
   "source": [
    "The new object \"schools\" contains 13 secondary schools within Milton Keynes, including their Easting and Northing, which are the coordinates of the schools in the [British National Grid](http://www.ordnancesurvey.co.uk/support/the-national-grid.html) projection. Before you can make a spatial data frame, you need to check that there are no records with blank spatial references (i.e. Easting and Northing) - in this example, we use the `subset()` function.\n",
    "\n",
    "The SpatialPointsDataFrame() function is then specified with the coordinates of the school \"coords\", which are specified as matrix of values - cbind() is used to \"column bind\" the Easting and Northing lists together, i.e. so each row is a location. The \"data\" parameter specifies any attribute data - in this case we just use the original data frame. Finally, the \"proj4string\" is specified using the CRS() function. These are standard lookups to known as [coordinate systems](http://spatialreference.org/).\n"
   ]
  },
  {
   "cell_type": "code",
   "execution_count": null,
   "metadata": {},
   "outputs": [],
   "source": [
    "# Remove those schools without Easting or Northing\n",
    "schools <- subset(schools, Easting != \"\" | Northing != \"\")\n",
    "\n",
    "# Create the SpatialPointsDataFrame\n",
    "schools_SDF <- SpatialPointsDataFrame(coords = cbind(schools$Easting, schools$Northing), data = schools, proj4string = CRS(\"+init=epsg:27700\"))\n"
   ]
  },
  {
   "cell_type": "markdown",
   "metadata": {},
   "source": [
    "We can now plot these locations on our map."
   ]
  },
  {
   "cell_type": "code",
   "execution_count": null,
   "metadata": {},
   "outputs": [],
   "source": [
    "plot(LSOA,col=colours_to_map,border = NA)\n",
    "plot(roads,add=TRUE, col=\"#6B6B6B\",lwd=0.3)\n",
    "plot(schools_SDF, pch = 19, cex = 0.4, col = \"#442200\",add=TRUE)"
   ]
  },
  {
   "cell_type": "markdown",
   "metadata": {},
   "source": [
    "### Plotting a subset of the map\n",
    "\n",
    "Much in the same way that we can subset a data frame, we can also create subsets of the plot. For example, suppose we just wanted to view a map for a a specific Ward in Milton Keynes.\n",
    "\n",
    "First we will read in the Ward boundaries."
   ]
  },
  {
   "cell_type": "code",
   "execution_count": null,
   "metadata": {},
   "outputs": [],
   "source": [
    "WARD <- readOGR(\"./data/england_cmwd_2011Polygon.shp\")"
   ]
  },
  {
   "cell_type": "markdown",
   "metadata": {},
   "source": [
    "There are 22 wards, which are named as follows."
   ]
  },
  {
   "cell_type": "code",
   "execution_count": null,
   "metadata": {},
   "outputs": [],
   "source": [
    "WARD$name"
   ]
  },
  {
   "cell_type": "markdown",
   "metadata": {},
   "source": [
    "We can plot and label these as follows. The text() function applies text to the map, specifying three lists including the Easting, Northing and the text labels. The Easting and Northing are derived using the coordinates() function, which for spatial polygons takes the centre of the polygon extent."
   ]
  },
  {
   "cell_type": "code",
   "execution_count": null,
   "metadata": {},
   "outputs": [],
   "source": [
    "plot(WARD)\n",
    "text(coordinates(WARD)[, 1], coordinates(WARD)[, 2], labels = WARD@data$name, cex = 0.4)"
   ]
  },
  {
   "cell_type": "markdown",
   "metadata": {},
   "source": [
    "In the following example we can use the attributes of the spatial data frame to plot just a small area of the total spatial polygons data frame object. For example, to plot just Loughton Park we can use the square brackets to just select a single row that matches the name \"Loughton Park\""
   ]
  },
  {
   "cell_type": "code",
   "execution_count": null,
   "metadata": {},
   "outputs": [],
   "source": [
    "plot(WARD[WARD@data$name == \"Loughton Park\",])"
   ]
  },
  {
   "cell_type": "markdown",
   "metadata": {},
   "source": [
    "This is a useful technique to create a more limited extent. We can use this as follows with some of the previous plots to create a \"zoomed in map\". Note how we are building the map up as a series of layers."
   ]
  },
  {
   "cell_type": "code",
   "execution_count": null,
   "metadata": {},
   "outputs": [],
   "source": [
    "plot(WARD[WARD@data$name == \"Loughton Park\",],border=NA) #creates the extent, note that border = NA to make this polygon invisible\n",
    "plot(LSOA,col=colours_to_map,border = NA,add=TRUE) #plot the choropleth for the IMD\n",
    "plot(roads,add=TRUE, col=\"#6B6B6B\",lwd=0.3) #plot the roads\n",
    "plot(schools_SDF, pch = 19, cex = 0.4, col = \"#442200\",add=TRUE) #plot the schools\n",
    "plot(WARD,border=\"#6B6B6B\",add=TRUE)#Add the ward boundaries, however this time they have a colour assigned\n",
    "text(coordinates(schools_SDF)[, 1], coordinates(schools_SDF)[, 2], labels = schools_SDF@data$SCHNAME, cex = 0.8,col=\"#442200\",pos=2)"
   ]
  },
  {
   "cell_type": "markdown",
   "metadata": {},
   "source": [
    "# Further resources / training\n",
    " \n",
    "* [An Introduction to R for Spatial Analysis and Mapping](https://uk.sagepub.com/en-gb/eur/an-introduction-to-r-for-spatial-analysis-and-mapping/book241031) - a great primer on mapping in R\n",
    "* [ggplot2 book](http://ggplot2.org/book/) - code and sample chapters for the [book](http://www.springer.com/gb/book/9780387981413)\n",
    "* [Scape Toad](http://scapetoad.choros.ch/) - A great tool for creating cartograms"
   ]
  }
 ],
 "metadata": {
  "jupytext": {
   "cell_metadata_filter": "message,tags,eval,warning,-all",
   "main_language": "R",
   "notebook_metadata_filter": "-all"
  },
  "kernelspec": {
   "display_name": "R",
   "language": "R",
   "name": "ir"
  },
  "language_info": {
   "codemirror_mode": "r",
   "file_extension": ".r",
   "mimetype": "text/x-r-source",
   "name": "R",
   "pygments_lexer": "r",
   "version": "3.6.1"
  }
 },
 "nbformat": 4,
 "nbformat_minor": 4
}
